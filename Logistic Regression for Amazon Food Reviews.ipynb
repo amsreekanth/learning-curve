{
 "cells": [
  {
   "cell_type": "code",
   "execution_count": 1,
   "metadata": {},
   "outputs": [],
   "source": [
    "%matplotlib inline\n",
    "import warnings\n",
    "warnings.filterwarnings(\"ignore\")\n",
    "\n",
    "import sqlite3\n",
    "import pandas as pd\n",
    "import numpy as np\n",
    "import nltk\n",
    "import string\n",
    "import matplotlib.pyplot as plt\n",
    "import seaborn as sns\n",
    "import math\n",
    "from prettytable import PrettyTable\n",
    "from scipy import sparse\n",
    "import csv\n",
    "\n",
    "from sklearn.feature_extraction.text import TfidfVectorizer, CountVectorizer\n",
    "from nltk.stem.snowball import SnowballStemmer\n",
    "from sklearn.neighbors import KNeighborsClassifier\n",
    "from sklearn.model_selection import cross_val_score, cross_validate, GridSearchCV\n",
    "from sklearn.preprocessing import StandardScaler, Normalizer\n",
    "from sklearn.metrics import accuracy_score, confusion_matrix, roc_curve, auc\n",
    "from sklearn.metrics import confusion_matrix, classification_report, precision_score\n",
    "from sklearn.decomposition import TruncatedSVD\n",
    "from sklearn.linear_model import LogisticRegression\n",
    "\n",
    "import re\n",
    "from nltk.corpus import stopwords\n",
    "from nltk.stem.wordnet import WordNetLemmatizer\n",
    "from nltk.tokenize import word_tokenize\n",
    "\n",
    "from gensim.models import Word2Vec\n",
    "from gensim.models import KeyedVectors"
   ]
  },
  {
   "cell_type": "code",
   "execution_count": 2,
   "metadata": {},
   "outputs": [],
   "source": [
    "pt = PrettyTable()\n",
    "pt.field_names = [\"Model\", \"Optimal Parameters\", \"Scoring Metric\", \"Score\", \"TPR\", \"TNR\", \"FPR\", \"FNR\"]"
   ]
  },
  {
   "cell_type": "code",
   "execution_count": 3,
   "metadata": {},
   "outputs": [],
   "source": [
    "def standardize_data(train, train_vectors, test, test_vectors):\n",
    "    sc = StandardScaler()\n",
    "    \n",
    "    y_train = train['Score']\n",
    "    X_train = train.drop(['Id', 'ProductId', 'UserId', 'ProfileName', 'Score', 'Summary', 'Text', 'CleanedText'], axis=1)\n",
    "    X_train = sc.fit_transform(X_train)\n",
    "    print(X_train.shape, train_vectors.shape)\n",
    "    X_train = np.hstack((X_train, train_vectors))\n",
    "    \n",
    "    print('X_Train: {0}'.format(X_train.shape))\n",
    "    print('y_Train: {0}'.format(y_train.shape))\n",
    "    \n",
    "    y_test = test['Score']\n",
    "    X_test = test.drop(['Id', 'ProductId', 'UserId', 'ProfileName', 'Score', 'Summary', 'Text', 'CleanedText'], axis=1)\n",
    "    X_test = sc.transform(X_test)\n",
    "    X_test = np.hstack((X_test, test_vectors))\n",
    "    \n",
    "    print('X_Test: {0}'.format(X_test.shape))\n",
    "    print('y_Test: {0}'.format(y_test.shape))\n",
    "    \n",
    "    return X_train, y_train, X_test, y_test"
   ]
  },
  {
   "cell_type": "code",
   "execution_count": 4,
   "metadata": {},
   "outputs": [],
   "source": [
    "def plot_scores(optimal_model):\n",
    "    _, = plt.plot(list(optimal_model.cv_results_['param_C']), \\\n",
    "                      list(optimal_model.cv_results_['mean_train_score']), 'g-', \\\n",
    "                     label='Training Scores')\n",
    "    _, = plt.plot(list(optimal_model.cv_results_['param_C']), \\\n",
    "                      list(optimal_model.cv_results_['mean_test_score']), 'r-', \\\n",
    "                      label='Test Scores')\n",
    "    _, = plt.plot(optimal_model.best_params_['C'], optimal_model.best_score_, 'bo', \\\n",
    "                     label=f\"Optimal Value (a={optimal_model.best_params_['C']}, Score={round(optimal_model.best_score_,2)})\")\n",
    "\n",
    "    plt.xscale('log')\n",
    "    plt.xlabel('C-Values')\n",
    "    plt.ylabel('Scores')\n",
    "    plt.legend()\n",
    "    plt.show()"
   ]
  },
  {
   "cell_type": "code",
   "execution_count": 9,
   "metadata": {},
   "outputs": [],
   "source": [
    "def run_LR(train, train_vectors, test, test_vectors, metric='precision_macro'):\n",
    "    '''\n",
    "    Perform Logisitic Regression modelling on the I/P Train and Test data.\n",
    "    1. Remove not required Columns, Standardize data and concatenate data with the text vectors.\n",
    "    2. Perform Cross Validation and find Optimal parameters - 'penalty' & 'c'.\n",
    "    3. Use the Optimal parameters based model on the Training data and evaluate the Test data.\n",
    "    4. Calculate Accuracy of Model and TPR, TNR, FPR, FNR.\n",
    "    '''\n",
    "    # Drop not required Columns, Standardize data and concatenate data with text vectors\n",
    "    X_train, y_train, X_test, y_test = standardize_data(train, train_vectors, test, test_vectors)\n",
    "\n",
    "    del train, train_vectors, test, test_vectors\n",
    "\n",
    "    lr = LogisticRegression(random_state=42, warm_start=True)\n",
    "    parameters = {'penalty':('l1', 'l2'), 'C':(0.01, 0.1, 1.0, 10.0), 'solver':('liblinear',)}\n",
    "    lr_optimal = GridSearchCV(lr, param_grid=parameters, cv=3, scoring=metric, verbose=0)\n",
    "    lr_optimal.fit(X_train, y_train)\n",
    "\n",
    "    # Plot Train vs Test Scores and the Optimal Parameter\n",
    "    plot_scores(lr_optimal)\n",
    "\n",
    "    # Confusion Matrix for Train Data\n",
    "    pred = []\n",
    "    for i in range(0, X_train.shape[0], 2000):\n",
    "        test_batch = X_train[i:i+2000]\n",
    "        pred.extend(lr_optimal.predict(test_batch))\n",
    "    conf_matrix = confusion_matrix(y_train, pred)\n",
    "    TPR = conf_matrix[1,1]/(conf_matrix[0,1] + conf_matrix[1,1])\n",
    "    TNR = conf_matrix[0,0]/(conf_matrix[0,0] + conf_matrix[1,0])\n",
    "    FPR = conf_matrix[1,0]/(conf_matrix[0,0] + conf_matrix[1,0])\n",
    "    FNR = conf_matrix[0,1]/(conf_matrix[0,1] + conf_matrix[1,1])\n",
    "    print('\\nConfusion Matrix for Train Data :-')\n",
    "    print(conf_matrix)\n",
    "    print(\"\\nTPR: {0} %\\nTNR: {1} %\\nFPR: {2} %\\nFNR: {3} %\\n\".format(TPR*100, TNR*100, FPR*100, FNR*100))\n",
    "    \n",
    "    del X_train, y_train\n",
    "    \n",
    "    # Confusion Matrix for Test Data\n",
    "    pred = []\n",
    "    for i in range(0, X_test.shape[0], 2000):\n",
    "        test_batch = X_test[i:i+2000]\n",
    "        pred.extend(lr_optimal.predict(test_batch))\n",
    "\n",
    "    ps = precision_score(y_test, pred, average='macro') * 100\n",
    "    print(f'\\nPrecision_Score of the Optimal LR classifier with parameters-{lr_optimal.best_params_} is {ps} %')\n",
    "    \n",
    "    conf_matrix = confusion_matrix(y_test, pred)\n",
    "    TPR = conf_matrix[1,1]/(conf_matrix[0,1] + conf_matrix[1,1])\n",
    "    TNR = conf_matrix[0,0]/(conf_matrix[0,0] + conf_matrix[1,0])\n",
    "    FPR = conf_matrix[1,0]/(conf_matrix[0,0] + conf_matrix[1,0])\n",
    "    FNR = conf_matrix[0,1]/(conf_matrix[0,1] + conf_matrix[1,1])\n",
    "    print('\\nConfusion Matrix for Test Data :-')\n",
    "    print(conf_matrix)\n",
    "    print(\"\\nTPR: {0} %\\nTNR: {1} %\\nFPR: {2} %\\nFNR: {3} %\\n\".format(TPR*100, TNR*100, FPR*100, FNR*100))\n",
    "    sns.heatmap(conf_matrix, annot=True, fmt='d', cmap='coolwarm')\n",
    "    print('\\nClassification Report :-\\n')\n",
    "    print(classification_report(y_test, pred))\n",
    "    \n",
    "    return [lr_optimal.best_params_, metric, round(ps,2), round(TPR*100,2), round(TNR*100,2), \\\n",
    "            round(FPR*100,2), round(FNR*100,2), lr_optimal.cv_results_, lr_optimal.best_estimator_.coef_[0]]"
   ]
  },
  {
   "cell_type": "code",
   "execution_count": 6,
   "metadata": {},
   "outputs": [],
   "source": [
    "data_train = pd.read_csv('./Matrices/data_train.csv')\n",
    "data_test = pd.read_csv('./Matrices/data_test.csv')"
   ]
  },
  {
   "cell_type": "markdown",
   "metadata": {},
   "source": [
    "## Collinearity Test using VIF for BOW Vectorizer"
   ]
  },
  {
   "cell_type": "code",
   "execution_count": 6,
   "metadata": {},
   "outputs": [],
   "source": [
    "data_train = pd.read_csv('./Matrices/sample2_data_train.csv')\n",
    "data_test = pd.read_csv('./Matrices/sample2_data_test.csv')"
   ]
  },
  {
   "cell_type": "code",
   "execution_count": 7,
   "metadata": {},
   "outputs": [
    {
     "name": "stdout",
     "output_type": "stream",
     "text": [
      "(28000, 6857) (12000, 6857)\n",
      "Wall time: 1.37 s\n"
     ]
    }
   ],
   "source": [
    "%%time\n",
    "cv_model = CountVectorizer(max_features=15000, min_df=5)\n",
    "bow_counts_train = cv_model.fit_transform(data_train['CleanedText'].values)\n",
    "bow_counts_test = cv_model.transform(data_test['CleanedText'].values)\n",
    "print(bow_counts_train.shape, bow_counts_test.shape)"
   ]
  },
  {
   "cell_type": "code",
   "execution_count": 8,
   "metadata": {},
   "outputs": [
    {
     "name": "stdout",
     "output_type": "stream",
     "text": [
      "(28000, 4) (28000, 6857)\n",
      "X_Train: (28000, 6861)\n",
      "y_Train: (28000,)\n",
      "X_Test: (12000, 6861)\n",
      "y_Test: (12000,)\n",
      "Wall time: 2.04 s\n"
     ]
    }
   ],
   "source": [
    "%%time\n",
    "X_train, y_train, X_test, y_test = standardize_data(data_train, bow_counts_train.toarray(), \\\n",
    "                                                    data_test, bow_counts_test.toarray())"
   ]
  },
  {
   "cell_type": "code",
   "execution_count": 64,
   "metadata": {},
   "outputs": [
    {
     "name": "stdout",
     "output_type": "stream",
     "text": [
      "[('HelpfulnessDenominator', 22.15), ('HelpfulnessNumerator', 22.07), ('adam', 2.19), ('actor', 1.91), ('acid', 1.79), ('afterlif', 1.64), ('administr', 1.58), ('aerogarden', 1.56), ('TextLength', 1.49), ('abund', 1.35), ('acidophilus', 1.31), ('acerola', 1.26), ('abil', 1.24), ('add', 1.23), ('achiev', 1.2), ('ad', 1.19), ('abdomin', 1.18), ('abnorm', 1.18), ('accord', 1.18), ('activ', 1.18), ('accid', 1.17), ('advers', 1.17), ('addit', 1.16), ('affect', 1.16), ('affili', 1.16), ('acquir', 1.14), ('actual', 1.14), ('africa', 1.14), ('acn', 1.13), ('adhes', 1.13), ('abus', 1.12), ('adequ', 1.12), ('absorpt', 1.11), ('act', 1.11), ('adult', 1.11), ('aesthet', 1.11), ('accident', 1.1), ('action', 1.1), ('advoc', 1.1), ('abl', 1.09), ('accumul', 1.09), ('adher', 1.09), ('advantag', 1.09), ('advis', 1.09), ('aforement', 1.09), ('access', 1.08), ('accustom', 1.08), ('ach', 1.08), ('across', 1.08), ('adjust', 1.08), ('administ', 1.08), ('adopt', 1.08), ('adventur', 1.08), ('african', 1.08), ('aftertast', 1.08), ('absent', 1.07), ('absorb', 1.07), ('accent', 1.07), ('acr', 1.07), ('admir', 1.07), ('admiss', 1.07), ('admit', 1.07), ('afraid', 1.07), ('absolut', 1.06), ('absurd', 1.06), ('accept', 1.06), ('accomplish', 1.06), ('account', 1.06), ('acknowledg', 1.06), ('adapt', 1.06), ('addict', 1.06), ('address', 1.06), ('advertis', 1.06), ('afternoon', 1.06), ('Time', 1.05), ('abandon', 1.05), ('absenc', 1.05), ('advic', 1.05), ('aerat', 1.05), ('accur', 1.04), ('afford', 1.04), ('abc', 1.03), ('acai', 1.03), ('accompani', 1.03), ('ador', 1.03), ('aerogrow', 1.03), ('aficionado', 1.03), ('abroad', 1.02), ('accommod', 1.02), ('acquaint', 1.02), ('acrid', 1.02), ('advanc', 1.02), ('advert', 1.02), ('aero', 1.02), ('afghanistan', 1.02), ('absolutley', 1.01), ('acut', 1.01), ('adagio', 1.01), ('aeropress', 1.01), ('afficionado', 1.01)]\n",
      "Wall time: 7min 29s\n"
     ]
    }
   ],
   "source": [
    "%%time\n",
    "import statsmodels.api as sm\n",
    "from operator import itemgetter\n",
    "\n",
    "feat_names = feature_names = ['HelpfulnessNumerator', 'HelpfulnessDenominator', 'Time', 'TextLength'] \\\n",
    "                + cv_model.get_feature_names()\n",
    "vifs = []\n",
    "for i in range(100):\n",
    "    y = X_train[:,i]\n",
    "    x = np.delete(X_train[:, :500], i, 1)\n",
    "    rsq = sm.OLS(y, x).fit().rsquared\n",
    "    vif = round(1/(1-rsq), 2)\n",
    "    vifs.append((feat_names[i], vif))\n",
    "vifs.sort(key=itemgetter(1), reverse=True)\n",
    "print(vifs)"
   ]
  },
  {
   "cell_type": "markdown",
   "metadata": {},
   "source": [
    "### Conclusion :-\n",
    "-  From the above results, only words 'HelpfulnessDenominator' and 'HelpfulnessNumerator' have very high collinearity, other features have values < 5%."
   ]
  },
  {
   "cell_type": "markdown",
   "metadata": {},
   "source": [
    "## Sparsity Comparison between 'L2' & 'L1' Regularized Models"
   ]
  },
  {
   "cell_type": "code",
   "execution_count": 10,
   "metadata": {},
   "outputs": [
    {
     "name": "stdout",
     "output_type": "stream",
     "text": [
      "Fitting 3 folds for each of 4 candidates, totalling 12 fits\n"
     ]
    },
    {
     "name": "stderr",
     "output_type": "stream",
     "text": [
      "[Parallel(n_jobs=1)]: Done  12 out of  12 | elapsed:   29.4s finished\n"
     ]
    },
    {
     "name": "stdout",
     "output_type": "stream",
     "text": [
      "Wall time: 30.9 s\n"
     ]
    }
   ],
   "source": [
    "%%time\n",
    "lr = LogisticRegression(random_state=42, warm_start=True)\n",
    "parameters = {'penalty':('l2',), 'C':(0.01, 0.1, 1.0, 10.0), 'solver':('liblinear',)}\n",
    "lr_optimal = GridSearchCV(lr, param_grid=parameters, cv=3, scoring='precision_macro', verbose=1)\n",
    "lr_optimal.fit(X_train, y_train)\n",
    "l2_sparsity = lr_optimal.best_estimator_.coef_[0]"
   ]
  },
  {
   "cell_type": "code",
   "execution_count": 34,
   "metadata": {},
   "outputs": [
    {
     "name": "stdout",
     "output_type": "stream",
     "text": [
      "L2 Regularizer based Model Weight Vector has 0 zeros with Sparsity -> 0.0\n",
      "Weight Vector with values between 0 and 1 -> 4162\n"
     ]
    }
   ],
   "source": [
    "# Check for Sparsity (# of 0's) in L2 based Model Weight Vector\n",
    "print(f'L2 Regularizer based Model Weight Vector has {list(l2_sparsity).count(0)} zeros with Sparsity -> {list(l2_sparsity).count(0)/len(l2_sparsity)}')\n",
    "print(f'Weight Vector with values between 0 and 1 -> {len(l2_sparsity[(l2_sparsity > 0) & (l2_sparsity < 1)])}')"
   ]
  },
  {
   "cell_type": "code",
   "execution_count": 18,
   "metadata": {},
   "outputs": [
    {
     "name": "stdout",
     "output_type": "stream",
     "text": [
      "Fitting 3 folds for each of 4 candidates, totalling 12 fits\n"
     ]
    },
    {
     "name": "stderr",
     "output_type": "stream",
     "text": [
      "[Parallel(n_jobs=1)]: Done  12 out of  12 | elapsed:   25.3s finished\n"
     ]
    },
    {
     "name": "stdout",
     "output_type": "stream",
     "text": [
      "Wall time: 26.6 s\n"
     ]
    }
   ],
   "source": [
    "%%time\n",
    "lr = LogisticRegression(random_state=42, warm_start=True)\n",
    "parameters = {'penalty':('l1',), 'C':(0.01, 0.1, 1.0, 10.0), 'solver':('liblinear',)}\n",
    "lr_optimal = GridSearchCV(lr, param_grid=parameters, cv=3, scoring='precision_macro', verbose=1)\n",
    "lr_optimal.fit(X_train, y_train)\n",
    "l1_sparsity = lr_optimal.best_estimator_.coef_[0]"
   ]
  },
  {
   "cell_type": "code",
   "execution_count": 33,
   "metadata": {},
   "outputs": [
    {
     "name": "stdout",
     "output_type": "stream",
     "text": [
      "L1 Regularizer based Model Weight Vector has 6471 zeros with Sparsity -> 0.9431569742020114\n",
      "Weight Vector with values between 0 and 1 -> 207\n"
     ]
    }
   ],
   "source": [
    "# Check for Sparsity (# of 0's) in L2 based Model Weight Vector\n",
    "print(f'L1 Regularizer based Model Weight Vector has {list(l1_sparsity).count(0)} zeros with Sparsity -> {list(l1_sparsity).count(0)/len(l1_sparsity)}')\n",
    "print(f'Weight Vector with values between 0 and 1 -> {len(l1_sparsity[(l1_sparsity > 0) & (l1_sparsity < 1)])}')"
   ]
  },
  {
   "cell_type": "markdown",
   "metadata": {},
   "source": [
    "## Conclusion :-\n",
    "- From the results obtained above, it is seen that 'L1' Regularizer based Models create a lot sparser Weight Vector than 'L2' Regularizer based Model."
   ]
  },
  {
   "cell_type": "markdown",
   "metadata": {},
   "source": [
    "## BOW Vectorizer based model"
   ]
  },
  {
   "cell_type": "code",
   "execution_count": 7,
   "metadata": {},
   "outputs": [
    {
     "name": "stdout",
     "output_type": "stream",
     "text": [
      "(56000, 9397) (24000, 9397)\n",
      "Wall time: 2.91 s\n"
     ]
    }
   ],
   "source": [
    "%%time\n",
    "cv_model = CountVectorizer(max_features=15000, min_df=5)\n",
    "bow_counts_train = cv_model.fit_transform(data_train['CleanedText'].values)\n",
    "bow_counts_test = cv_model.transform(data_test['CleanedText'].values)\n",
    "print(bow_counts_train.shape, bow_counts_test.shape)"
   ]
  },
  {
   "cell_type": "code",
   "execution_count": 10,
   "metadata": {
    "scrolled": true
   },
   "outputs": [
    {
     "name": "stdout",
     "output_type": "stream",
     "text": [
      "(56000, 4) (56000, 9397)\n",
      "X_Train: (56000, 9401)\n",
      "y_Train: (56000,)\n",
      "X_Test: (24000, 9401)\n",
      "y_Test: (24000,)\n"
     ]
    },
    {
     "data": {
      "image/png": "[encoded data removed]",
      "text/plain": [
       "<matplotlib.figure.Figure at 0x2af7054cc88>"
      ]
     },
     "metadata": {},
     "output_type": "display_data"
    },
    {
     "name": "stdout",
     "output_type": "stream",
     "text": [
      "\n",
      "Confusion Matrix for Train Data :-\n",
      "[[ 5798  1864]\n",
      " [  563 47775]]\n",
      "\n",
      "TPR: 96.24488809202441 %\n",
      "TNR: 91.14919037887125 %\n",
      "FPR: 8.850809621128754 %\n",
      "FNR: 3.7551119079755835 %\n",
      "\n",
      "\n",
      "Precision_Score of the Optimal LR classifier with parameters-{'C': 0.1, 'penalty': 'l2', 'solver': 'liblinear'} is 90.02385326709651 %\n",
      "\n",
      "Confusion Matrix for Test Data :-\n",
      "[[ 2965  1134]\n",
      " [  500 19401]]\n",
      "\n",
      "TPR: 94.47772096420745 %\n",
      "TNR: 85.56998556998558 %\n",
      "FPR: 14.43001443001443 %\n",
      "FNR: 5.5222790357925495 %\n",
      "\n",
      "\n",
      "Classification Report :-\n",
      "\n",
      "             precision    recall  f1-score   support\n",
      "\n",
      "          0       0.86      0.72      0.78      4099\n",
      "          1       0.94      0.97      0.96     19901\n",
      "\n",
      "avg / total       0.93      0.93      0.93     24000\n",
      "\n",
      "Wall time: 3min 30s\n"
     ]
    },
    {
     "data": {
      "image/png": "[encoded data removed]",
      "text/plain": [
       "<matplotlib.figure.Figure at 0x2af6f0234e0>"
      ]
     },
     "metadata": {},
     "output_type": "display_data"
    }
   ],
   "source": [
    "%%time\n",
    "info = run_LR(data_train, bow_counts_train.toarray(), data_test, bow_counts_test.toarray())"
   ]
  },
  {
   "cell_type": "code",
   "execution_count": 11,
   "metadata": {},
   "outputs": [
    {
     "name": "stdout",
     "output_type": "stream",
     "text": [
      "+-----------+------------------------+-----------+------------------------+\n",
      "| Coeff_Neg | Best Negative Features | Coeff_Pos | Best Positive Features |\n",
      "+-----------+------------------------+-----------+------------------------+\n",
      "|   -3.634  | HelpfulnessDenominator |   3.429   |  HelpfulnessNumerator  |\n",
      "|   -1.754  |         worst          |   1.578   |         delici         |\n",
      "|   -1.486  |       disappoint       |   1.489   |         excel          |\n",
      "|   -1.426  |        horribl         |    1.3    |          best          |\n",
      "|   -1.367  |        unfortun        |    1.28   |        perfect         |\n",
      "|   -1.358  |           aw           |   1.201   |         awesom         |\n",
      "|   -1.296  |        terribl         |   1.157   |         great          |\n",
      "|   -1.077  |          poor          |   1.155   |         addict         |\n",
      "|   -1.017  |        disgust         |   1.119   |          amaz          |\n",
      "|   -0.986  |         bland          |   1.115   |         yummi          |\n",
      "|   -0.971  |         threw          |   1.065   |        fantast         |\n",
      "|   -0.963  |       tasteless        |   0.955   |          hook          |\n",
      "|   -0.945  |          wors          |   0.916   |          nice          |\n",
      "|   -0.944  |          weak          |   0.866   |         wonder         |\n",
      "|   -0.918  |          lack          |   0.829   |         tasti          |\n",
      "|   -0.912  |         sorri          |   0.807   |          easi          |\n",
      "|   -0.859  |       dissapoint       |   0.793   |        satisfi         |\n",
      "|   -0.849  |         earth          |   0.792   |          love          |\n",
      "|   -0.846  |          wast          |   0.735   |        pleasant        |\n",
      "|   -0.833  |         broke          |   0.735   |         smooth         |\n",
      "+-----------+------------------------+-----------+------------------------+\n",
      "Wall time: 47.7 ms\n"
     ]
    }
   ],
   "source": [
    "%%time\n",
    "n = 20; coeffs = info[-1]; coef_pt = PrettyTable();\n",
    "coef_pt.field_names = [\"Coeff_Neg\", \"Best Negative Features\", \"Coeff_Pos\", \"Best Positive Features\"]\n",
    "feature_names = ['HelpfulnessNumerator', 'HelpfulnessDenominator', 'Time', 'TextLength'] \\\n",
    "                + cv_model.get_feature_names()\n",
    "coefs_with_fns = sorted(zip(coeffs, feature_names))\n",
    "top = zip(coefs_with_fns[:n], coefs_with_fns[:-(n + 1):-1])\n",
    "for (coef_1, fn_1), (coef_2, fn_2) in top:\n",
    "    coef_pt.add_row([round(coef_1,3), fn_1, round(coef_2,3), fn_2])\n",
    "print(coef_pt)"
   ]
  },
  {
   "cell_type": "code",
   "execution_count": 12,
   "metadata": {},
   "outputs": [
    {
     "name": "stdout",
     "output_type": "stream",
     "text": [
      "+-------+----------------------------------------------------+-----------------+-------+-------+-------+-------+------+\n",
      "| Model |                 Optimal Parameters                 |  Scoring Metric | Score |  TPR  |  TNR  |  FPR  | FNR  |\n",
      "+-------+----------------------------------------------------+-----------------+-------+-------+-------+-------+------+\n",
      "|  BOW  | {'C': 0.1, 'penalty': 'l2', 'solver': 'liblinear'} | precision_macro | 90.02 | 94.48 | 85.57 | 14.43 | 5.52 |\n",
      "+-------+----------------------------------------------------+-----------------+-------+-------+-------+-------+------+\n",
      "Wall time: 1 ms\n"
     ]
    }
   ],
   "source": [
    "%%time\n",
    "pt.add_row(['BOW'] + info[:-2])\n",
    "print(pt)"
   ]
  },
  {
   "cell_type": "code",
   "execution_count": 13,
   "metadata": {},
   "outputs": [],
   "source": [
    "del cv_model, bow_counts_train, bow_counts_test"
   ]
  },
  {
   "cell_type": "markdown",
   "metadata": {},
   "source": [
    "## TFIDF Vectorizer based model"
   ]
  },
  {
   "cell_type": "code",
   "execution_count": 14,
   "metadata": {},
   "outputs": [
    {
     "name": "stdout",
     "output_type": "stream",
     "text": [
      "(56000, 9397) (24000, 9397)\n",
      "Wall time: 5.53 s\n"
     ]
    }
   ],
   "source": [
    "%%time\n",
    "tfidf_model = TfidfVectorizer(max_features=15000, min_df=5)\n",
    "tfidf_train = tfidf_model.fit_transform(data_train['CleanedText'].values)\n",
    "tfidf_test = tfidf_model.transform(data_test['CleanedText'].values)\n",
    "print(tfidf_train.shape, tfidf_test.shape)"
   ]
  },
  {
   "cell_type": "code",
   "execution_count": 15,
   "metadata": {
    "scrolled": true
   },
   "outputs": [
    {
     "name": "stdout",
     "output_type": "stream",
     "text": [
      "(56000, 4) (56000, 9397)\n",
      "X_Train: (56000, 9401)\n",
      "y_Train: (56000,)\n",
      "X_Test: (24000, 9401)\n",
      "y_Test: (24000,)\n"
     ]
    },
    {
     "data": {
      "image/png": "[encoded data removed]",
      "text/plain": [
       "<matplotlib.figure.Figure at 0x2af6f249940>"
      ]
     },
     "metadata": {},
     "output_type": "display_data"
    },
    {
     "name": "stdout",
     "output_type": "stream",
     "text": [
      "\n",
      "Confusion Matrix for Train Data :-\n",
      "[[ 5406  2256]\n",
      " [  530 47808]]\n",
      "\n",
      "TPR: 95.49376797698945 %\n",
      "TNR: 91.07142857142857 %\n",
      "FPR: 8.928571428571429 %\n",
      "FNR: 4.506232023010546 %\n",
      "\n",
      "\n",
      "Precision_Score of the Optimal LR classifier with parameters-{'C': 1.0, 'penalty': 'l2', 'solver': 'liblinear'} is 91.3064773861137 %\n",
      "\n",
      "Confusion Matrix for Test Data :-\n",
      "[[ 2812  1287]\n",
      " [  355 19546]]\n",
      "\n",
      "TPR: 93.82230115681851 %\n",
      "TNR: 88.7906536154089 %\n",
      "FPR: 11.209346384591095 %\n",
      "FNR: 6.177698843181491 %\n",
      "\n",
      "\n",
      "Classification Report :-\n",
      "\n",
      "             precision    recall  f1-score   support\n",
      "\n",
      "          0       0.89      0.69      0.77      4099\n",
      "          1       0.94      0.98      0.96     19901\n",
      "\n",
      "avg / total       0.93      0.93      0.93     24000\n",
      "\n",
      "Wall time: 2min 35s\n"
     ]
    },
    {
     "data": {
      "image/png": "[encoded data removed]",
      "text/plain": [
       "<matplotlib.figure.Figure at 0x2af70c4fef0>"
      ]
     },
     "metadata": {},
     "output_type": "display_data"
    }
   ],
   "source": [
    "%%time\n",
    "info = run_LR(data_train, tfidf_train.toarray(), data_test, tfidf_test.toarray())"
   ]
  },
  {
   "cell_type": "code",
   "execution_count": 16,
   "metadata": {
    "scrolled": false
   },
   "outputs": [
    {
     "name": "stdout",
     "output_type": "stream",
     "text": [
      "+-----------+------------------------+-----------+------------------------+\n",
      "| Coeff_Neg | Best Negative Features | Coeff_Pos | Best Positive Features |\n",
      "+-----------+------------------------+-----------+------------------------+\n",
      "|   -8.065  |       disappoint       |   10.967  |         great          |\n",
      "|   -7.66   |          not           |   9.368   |          best          |\n",
      "|   -6.69   |         worst          |   8.244   |         delici         |\n",
      "|   -5.763  |        horribl         |   7.712   |          love          |\n",
      "|   -5.404  |        terribl         |   6.997   |         excel          |\n",
      "|   -5.288  |           aw           |   6.493   |        perfect         |\n",
      "|   -5.281  |        unfortun        |   6.486   |          good          |\n",
      "|   -4.28   |          wast          |   5.306   |          nice          |\n",
      "|   -4.245  |          weak          |   4.751   |        favorit         |\n",
      "|   -4.221  |          poor          |   4.722   |         wonder         |\n",
      "|   -4.214  | HelpfulnessDenominator |   4.626   |          amaz          |\n",
      "|   -4.073  |         stale          |   4.425   |         awesom         |\n",
      "|   -3.935  |        disgust         |   4.347   |         tasti          |\n",
      "|   -3.873  |         bland          |   4.224   |         addict         |\n",
      "|   -3.733  |         money          |   4.183   |         yummi          |\n",
      "|   -3.683  |          mayb          |   4.068   |  HelpfulnessNumerator  |\n",
      "|   -3.666  |          wors          |   3.765   |        fantast         |\n",
      "|   -3.641  |          bad           |   3.598   |          easi          |\n",
      "|    -3.6   |         threw          |   3.571   |          find          |\n",
      "|   -3.598  |        thought         |   3.555   |         thank          |\n",
      "+-----------+------------------------+-----------+------------------------+\n",
      "Wall time: 44.9 ms\n"
     ]
    }
   ],
   "source": [
    "%%time\n",
    "n = 20; coeffs = info[-1]; coef_pt = PrettyTable();\n",
    "coef_pt.field_names = [\"Coeff_Neg\", \"Best Negative Features\", \"Coeff_Pos\", \"Best Positive Features\"]\n",
    "feature_names = ['HelpfulnessNumerator', 'HelpfulnessDenominator', 'Time', 'TextLength'] \\\n",
    "                + tfidf_model.get_feature_names()\n",
    "coefs_with_fns = sorted(zip(coeffs, feature_names))\n",
    "top = zip(coefs_with_fns[:n], coefs_with_fns[:-(n + 1):-1])\n",
    "for (coef_1, fn_1), (coef_2, fn_2) in top:\n",
    "    coef_pt.add_row([round(coef_1,3), fn_1, round(coef_2,3), fn_2])\n",
    "print(coef_pt)"
   ]
  },
  {
   "cell_type": "code",
   "execution_count": 17,
   "metadata": {},
   "outputs": [
    {
     "name": "stdout",
     "output_type": "stream",
     "text": [
      "+-------+----------------------------------------------------+-----------------+-------+-------+-------+-------+------+\n",
      "| Model |                 Optimal Parameters                 |  Scoring Metric | Score |  TPR  |  TNR  |  FPR  | FNR  |\n",
      "+-------+----------------------------------------------------+-----------------+-------+-------+-------+-------+------+\n",
      "|  BOW  | {'C': 0.1, 'penalty': 'l2', 'solver': 'liblinear'} | precision_macro | 90.02 | 94.48 | 85.57 | 14.43 | 5.52 |\n",
      "| TFIDF | {'C': 1.0, 'penalty': 'l2', 'solver': 'liblinear'} | precision_macro | 91.31 | 93.82 | 88.79 | 11.21 | 6.18 |\n",
      "+-------+----------------------------------------------------+-----------------+-------+-------+-------+-------+------+\n",
      "Wall time: 999 µs\n"
     ]
    }
   ],
   "source": [
    "%%time\n",
    "pt.add_row(['TFIDF'] + info[:-2])\n",
    "print(pt)"
   ]
  },
  {
   "cell_type": "code",
   "execution_count": 18,
   "metadata": {},
   "outputs": [],
   "source": [
    "del tfidf_model, tfidf_train, tfidf_test"
   ]
  },
  {
   "cell_type": "markdown",
   "metadata": {},
   "source": [
    "## Avg. W2V Vectorizer based model"
   ]
  },
  {
   "cell_type": "code",
   "execution_count": 19,
   "metadata": {},
   "outputs": [
    {
     "name": "stdout",
     "output_type": "stream",
     "text": [
      "Wall time: 2.05 s\n"
     ]
    }
   ],
   "source": [
    "%%time\n",
    "sent_vectors_train = pd.read_csv('./Matrices/avg_w2v_train.csv')\n",
    "sent_vectors_test = pd.read_csv('./Matrices/avg_w2v_test.csv')"
   ]
  },
  {
   "cell_type": "code",
   "execution_count": 20,
   "metadata": {
    "scrolled": true
   },
   "outputs": [
    {
     "name": "stdout",
     "output_type": "stream",
     "text": [
      "(56000, 4) (56000, 50)\n",
      "X_Train: (56000, 54)\n",
      "y_Train: (56000,)\n",
      "X_Test: (24000, 54)\n",
      "y_Test: (24000,)\n"
     ]
    },
    {
     "data": {
      "image/png": "[encoded data removed]",
      "text/plain": [
       "<matplotlib.figure.Figure at 0x2af6ee95198>"
      ]
     },
     "metadata": {},
     "output_type": "display_data"
    },
    {
     "name": "stdout",
     "output_type": "stream",
     "text": [
      "\n",
      "Confusion Matrix for Train Data :-\n",
      "[[ 3925  3737]\n",
      " [  827 47511]]\n",
      "\n",
      "TPR: 92.70800811738995 %\n",
      "TNR: 82.59680134680136 %\n",
      "FPR: 17.403198653198654 %\n",
      "FNR: 7.291991882610054 %\n",
      "\n",
      "\n",
      "Precision_Score of the Optimal LR classifier with parameters-{'C': 0.01, 'penalty': 'l1', 'solver': 'liblinear'} is 87.16601695921628 %\n",
      "\n",
      "Confusion Matrix for Test Data :-\n",
      "[[ 2119  1980]\n",
      " [  417 19484]]\n",
      "\n",
      "TPR: 90.77525158404771 %\n",
      "TNR: 83.55678233438486 %\n",
      "FPR: 16.443217665615144 %\n",
      "FNR: 9.224748415952293 %\n",
      "\n",
      "\n",
      "Classification Report :-\n",
      "\n",
      "             precision    recall  f1-score   support\n",
      "\n",
      "          0       0.84      0.52      0.64      4099\n",
      "          1       0.91      0.98      0.94     19901\n",
      "\n",
      "avg / total       0.90      0.90      0.89     24000\n",
      "\n",
      "Wall time: 39.9 s\n"
     ]
    },
    {
     "data": {
      "image/png": "[encoded data removed]",
      "text/plain": [
       "<matplotlib.figure.Figure at 0x2af6eeefeb8>"
      ]
     },
     "metadata": {},
     "output_type": "display_data"
    }
   ],
   "source": [
    "%%time\n",
    "info = run_LR(data_train, sent_vectors_train, data_test, sent_vectors_test)"
   ]
  },
  {
   "cell_type": "code",
   "execution_count": 21,
   "metadata": {},
   "outputs": [
    {
     "name": "stdout",
     "output_type": "stream",
     "text": [
      "+----------+-----------------------------------------------------+-----------------+-------+-------+-------+-------+------+\n",
      "|  Model   |                  Optimal Parameters                 |  Scoring Metric | Score |  TPR  |  TNR  |  FPR  | FNR  |\n",
      "+----------+-----------------------------------------------------+-----------------+-------+-------+-------+-------+------+\n",
      "|   BOW    |  {'C': 0.1, 'penalty': 'l2', 'solver': 'liblinear'} | precision_macro | 90.02 | 94.48 | 85.57 | 14.43 | 5.52 |\n",
      "|  TFIDF   |  {'C': 1.0, 'penalty': 'l2', 'solver': 'liblinear'} | precision_macro | 91.31 | 93.82 | 88.79 | 11.21 | 6.18 |\n",
      "| Avg. W2V | {'C': 0.01, 'penalty': 'l1', 'solver': 'liblinear'} | precision_macro | 87.17 | 90.78 | 83.56 | 16.44 | 9.22 |\n",
      "+----------+-----------------------------------------------------+-----------------+-------+-------+-------+-------+------+\n",
      "Wall time: 2 ms\n"
     ]
    }
   ],
   "source": [
    "%%time\n",
    "pt.add_row(['Avg. W2V'] + info[:-2])\n",
    "print(pt)"
   ]
  },
  {
   "cell_type": "markdown",
   "metadata": {},
   "source": [
    "## TFIDF-weighted W2V Vectorizer based model"
   ]
  },
  {
   "cell_type": "code",
   "execution_count": 22,
   "metadata": {},
   "outputs": [
    {
     "name": "stdout",
     "output_type": "stream",
     "text": [
      "Wall time: 2.02 s\n"
     ]
    }
   ],
   "source": [
    "%%time\n",
    "sent_vectors_train = pd.read_csv('./Matrices/tfidf_w2v_train.csv')\n",
    "sent_vectors_test = pd.read_csv('./Matrices/tfidf_w2v_test.csv')"
   ]
  },
  {
   "cell_type": "code",
   "execution_count": 23,
   "metadata": {
    "scrolled": true
   },
   "outputs": [
    {
     "name": "stdout",
     "output_type": "stream",
     "text": [
      "(56000, 4) (56000, 50)\n",
      "X_Train: (56000, 54)\n",
      "y_Train: (56000,)\n",
      "X_Test: (24000, 54)\n",
      "y_Test: (24000,)\n"
     ]
    },
    {
     "data": {
      "image/png": "[encoded data removed]",
      "text/plain": [
       "<matplotlib.figure.Figure at 0x2af6efb5be0>"
      ]
     },
     "metadata": {},
     "output_type": "display_data"
    },
    {
     "name": "stdout",
     "output_type": "stream",
     "text": [
      "\n",
      "Confusion Matrix for Train Data :-\n",
      "[[ 3892  3770]\n",
      " [ 1081 47257]]\n",
      "\n",
      "TPR: 92.61175456131068 %\n",
      "TNR: 78.26261813794491 %\n",
      "FPR: 21.7373818620551 %\n",
      "FNR: 7.388245438689321 %\n",
      "\n",
      "\n",
      "Precision_Score of the Optimal LR classifier with parameters-{'C': 0.1, 'penalty': 'l2', 'solver': 'liblinear'} is 85.16403942772041 %\n",
      "\n",
      "Confusion Matrix for Test Data :-\n",
      "[[ 2068  2031]\n",
      " [  523 19378]]\n",
      "\n",
      "TPR: 90.51333551310196 %\n",
      "TNR: 79.81474334233887 %\n",
      "FPR: 20.185256657661135 %\n",
      "FNR: 9.486664486898032 %\n",
      "\n",
      "\n",
      "Classification Report :-\n",
      "\n",
      "             precision    recall  f1-score   support\n",
      "\n",
      "          0       0.80      0.50      0.62      4099\n",
      "          1       0.91      0.97      0.94     19901\n",
      "\n",
      "avg / total       0.89      0.89      0.88     24000\n",
      "\n",
      "Wall time: 35.8 s\n"
     ]
    },
    {
     "data": {
      "image/png": "[encoded data removed]",
      "text/plain": [
       "<matplotlib.figure.Figure at 0x2af6f151860>"
      ]
     },
     "metadata": {},
     "output_type": "display_data"
    }
   ],
   "source": [
    "%%time\n",
    "info = run_LR(data_train, sent_vectors_train, data_test, sent_vectors_test)"
   ]
  },
  {
   "cell_type": "code",
   "execution_count": 24,
   "metadata": {},
   "outputs": [
    {
     "name": "stdout",
     "output_type": "stream",
     "text": [
      "+-----------+-----------------------------------------------------+-----------------+-------+-------+-------+-------+------+\n",
      "|   Model   |                  Optimal Parameters                 |  Scoring Metric | Score |  TPR  |  TNR  |  FPR  | FNR  |\n",
      "+-----------+-----------------------------------------------------+-----------------+-------+-------+-------+-------+------+\n",
      "|    BOW    |  {'C': 0.1, 'penalty': 'l2', 'solver': 'liblinear'} | precision_macro | 90.02 | 94.48 | 85.57 | 14.43 | 5.52 |\n",
      "|   TFIDF   |  {'C': 1.0, 'penalty': 'l2', 'solver': 'liblinear'} | precision_macro | 91.31 | 93.82 | 88.79 | 11.21 | 6.18 |\n",
      "|  Avg. W2V | {'C': 0.01, 'penalty': 'l1', 'solver': 'liblinear'} | precision_macro | 87.17 | 90.78 | 83.56 | 16.44 | 9.22 |\n",
      "| TFIDF W2V |  {'C': 0.1, 'penalty': 'l2', 'solver': 'liblinear'} | precision_macro | 85.16 | 90.51 | 79.81 | 20.19 | 9.49 |\n",
      "+-----------+-----------------------------------------------------+-----------------+-------+-------+-------+-------+------+\n",
      "Wall time: 2 ms\n"
     ]
    }
   ],
   "source": [
    "%%time\n",
    "pt.add_row(['TFIDF W2V'] + info[:-2])\n",
    "print(pt)"
   ]
  },
  {
   "cell_type": "markdown",
   "metadata": {},
   "source": [
    "# Conclusions :-\n",
    "-  The Dataset being highly imbalanced (8:1) the Scoring metric has been selected based on the Model performance of - high TPR & TNR and low FPR & FNR.\n",
    "-  Based on the above performance criteria, both 'recall' and 'precision_macro' have shown to provide high True Negative Rate (TNR) or low False Positive Rate (FPR). 'precision_macro' metric has been used here to evaluate the models. \n",
    "-  From the Performances obtained on the four Vectorizer models, it has been observed that TFIDF Vectorizer is giving the best performance - high TPR with the highest TNR.\n",
    "-  The Model performance might improve if the unbalancedness of the dataset can be treated with Oversampling - repeating Minority class or creating Synthetic datapoints using SMOTE.\n",
    "-  Reducing the 'n_components' in the Vectorizer models has proved to increase the True Negative Rate."
   ]
  }
 ],
 "metadata": {
  "kernelspec": {
   "display_name": "Python 3",
   "language": "python",
   "name": "python3"
  },
  "language_info": {
   "codemirror_mode": {
    "name": "ipython",
    "version": 3
   },
   "file_extension": ".py",
   "mimetype": "text/x-python",
   "name": "python",
   "nbconvert_exporter": "python",
   "pygments_lexer": "ipython3",
   "version": "3.6.4"
  }
 },
 "nbformat": 4,
 "nbformat_minor": 2
}
