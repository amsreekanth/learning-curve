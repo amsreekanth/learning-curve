{
 "cells": [
  {
   "cell_type": "code",
   "execution_count": 1,
   "metadata": {},
   "outputs": [],
   "source": [
    "%matplotlib inline\n",
    "import warnings\n",
    "warnings.filterwarnings(\"ignore\")\n",
    "\n",
    "import sqlite3\n",
    "import pandas as pd\n",
    "import numpy as np\n",
    "import nltk\n",
    "import string\n",
    "import matplotlib.pyplot as plt\n",
    "import seaborn as sns\n",
    "import math\n",
    "from prettytable import PrettyTable\n",
    "from scipy import sparse\n",
    "import csv\n",
    "\n",
    "from sklearn.feature_extraction.text import TfidfVectorizer, CountVectorizer\n",
    "from nltk.stem.snowball import SnowballStemmer\n",
    "from sklearn.neighbors import KNeighborsClassifier\n",
    "from sklearn.model_selection import cross_val_score, cross_validate, GridSearchCV\n",
    "from sklearn.preprocessing import StandardScaler, Normalizer\n",
    "from sklearn.metrics import accuracy_score, confusion_matrix, roc_curve, auc\n",
    "from sklearn.metrics import confusion_matrix, classification_report, precision_score\n",
    "from sklearn.decomposition import TruncatedSVD\n",
    "from sklearn.naive_bayes import GaussianNB, MultinomialNB, BernoulliNB\n",
    "\n",
    "import re\n",
    "from nltk.corpus import stopwords\n",
    "from nltk.stem.wordnet import WordNetLemmatizer\n",
    "from nltk.tokenize import word_tokenize\n",
    "\n",
    "from gensim.models import Word2Vec\n",
    "from gensim.models import KeyedVectors"
   ]
  },
  {
   "cell_type": "code",
   "execution_count": 2,
   "metadata": {},
   "outputs": [],
   "source": [
    "pt = PrettyTable()\n",
    "pt.field_names = [\"Text Vectorizer Model\", \"Optimal K-value\", \"Scoring Metric\", \"Accuracy\", \"TPR\", \"TNR\", \"FPR\", \"FNR\"]"
   ]
  },
  {
   "cell_type": "code",
   "execution_count": 3,
   "metadata": {},
   "outputs": [
    {
     "name": "stdout",
     "output_type": "stream",
     "text": [
      "(150000, 10)\n",
      "Wall time: 4.64 s\n"
     ]
    }
   ],
   "source": [
    "%%time\n",
    "con = sqlite3.connect('database.sqlite')\n",
    "raw_data = pd.read_sql_query(\"\"\" SELECT * FROM Reviews WHERE Score != 3 \"\"\", con)\n",
    "raw_data = raw_data.sample(150000, random_state=42)\n",
    "raw_data = raw_data.sort_values('Time')\n",
    "print(raw_data.shape)"
   ]
  },
  {
   "cell_type": "code",
   "execution_count": 3,
   "metadata": {},
   "outputs": [],
   "source": [
    "def preprocess(data):\n",
    "    '''\n",
    "    Preprocess I/P data :-\n",
    "    1. Update Score with 0 (-ve Review) and 1 (+ve Review).\n",
    "    2. Add another feature with Review length and use Log to reduce scale.\n",
    "    3. Select unique rows based on - UserId, ProfileName, Time and Text.\n",
    "    4. Remove rows which have helpfulness denominator greater than helpfulness numerator.\n",
    "    5. Remove html tags from Reviews.\n",
    "    6. Remove punctuations and special characters.\n",
    "    7. Performing Stemming using Snowball Stemmer.\n",
    "    8. Extract Adjectives, Nouns, Verbs, Adverbs from 'Summary' column and add it to the 'CleanedText' column.\n",
    "    '''\n",
    "    # Update 'Score' with 0 -> Negative Review and 1 -> Positive Review\n",
    "    data['Score'] = data['Score'].map(lambda x: 0 if x<3 else 1)\n",
    "    data['TextLength'] = data['Text'].apply(lambda x: math.log(len(x.split())))\n",
    "\n",
    "    data = data.drop_duplicates(subset={'UserId', 'ProfileName', 'Time', 'Text'})\n",
    "    data = data[data['HelpfulnessNumerator'] <= data['HelpfulnessDenominator']]\n",
    "\n",
    "    stops = set(stopwords.words('english')) - set(['not'])\n",
    "    snow = SnowballStemmer('english')\n",
    "\n",
    "    # Function to clean the word of any html-tags\n",
    "    def cleanhtml(sentence):\n",
    "        cleanr = re.compile('<.*?>')\n",
    "        cleantext = re.sub(cleanr, ' ', sentence)\n",
    "        return cleantext\n",
    "\n",
    "    # Function to clean the word of any punctuation or special characters\n",
    "    def cleanpunc(sentence):\n",
    "        cleaned = re.sub(r'[?|!|\\'|\"|:|#]',r' ',sentence)\n",
    "        cleaned = re.sub(r'[.|,|)|(|\\|/]',r' ',cleaned)\n",
    "        return  cleaned\n",
    "\n",
    "    filtered_reviews = []\n",
    "    s = ''\n",
    "\n",
    "    for review in data['Text'].values:\n",
    "        filtered_sent = []\n",
    "        review = cleanhtml(review)\n",
    "        review = cleanpunc(review)\n",
    "        for word in review.split():\n",
    "            if word.isalpha() and len(word) > 2:\n",
    "                if word.lower() not in stops:\n",
    "                    s = snow.stem(word.lower())\n",
    "                    filtered_sent.append(s)\n",
    "        filtered_reviews.append(' '.join(filtered_sent))\n",
    "        \n",
    "    tags = []\n",
    "    for review in data['Summary'].values:\n",
    "        review = cleanhtml(review)\n",
    "        review = cleanpunc(review)\n",
    "        adjs = [x[0] for x in nltk.pos_tag(word_tokenize(review)) if x[1].startswith('JJ') \\\n",
    "                or x[1].startswith('RB') or x[1].startswith('VB') or x[1] == 'NNP']\n",
    "        if len(adjs) > 0:\n",
    "            adjs = ' '.join([snow.stem(word.lower()) if len(word) > 2 and word.lower() not in stops else '' for word in adjs])\n",
    "        tags.append(adjs)\n",
    "    \n",
    "    print('Total Data-points :-',len(filtered_reviews))\n",
    "    data['CleanedText'] = [str(filtered_reviews[i]) + ' ' + str(tags[i]) for i in range(len(tags))]\n",
    "    return data"
   ]
  },
  {
   "cell_type": "code",
   "execution_count": 4,
   "metadata": {},
   "outputs": [],
   "source": [
    "def plot_scores(nb_optimal):\n",
    "    _, = plt.plot(list(nb_optimal.cv_results_['param_alpha']), \\\n",
    "                      list(nb_optimal.cv_results_['mean_train_score']), 'g-', \\\n",
    "                     label='Training Scores')\n",
    "    _, = plt.plot(list(nb_optimal.cv_results_['param_alpha']), \\\n",
    "                      list(nb_optimal.cv_results_['mean_test_score']), 'r-', \\\n",
    "                      label='Test Scores')\n",
    "    _, = plt.plot(nb_optimal.best_params_['alpha'], nb_optimal.best_score_, 'bo', \\\n",
    "                     label=f\"Optimal Value (a={nb_optimal.best_params_['alpha']}, Score={round(nb_optimal.best_score_,2)})\")\n",
    "\n",
    "    plt.xscale('log')\n",
    "    plt.xlabel('Laplace Smoothing Parameter (Alpha)')\n",
    "    plt.ylabel('Scores')\n",
    "    plt.legend()\n",
    "    plt.show()"
   ]
  },
  {
   "cell_type": "code",
   "execution_count": 5,
   "metadata": {},
   "outputs": [],
   "source": [
    "def normalize_data(train, train_vectors, test, test_vectors):\n",
    "    sc = Normalizer()\n",
    "    \n",
    "    y_train = train['Score']\n",
    "    X_train = train.drop(['Id', 'ProductId', 'UserId', 'ProfileName', 'Score', 'Summary', 'Text', 'CleanedText'], axis=1)\n",
    "    X_train = sc.fit_transform(X_train)\n",
    "    print(X_train.shape, train_vectors.shape)\n",
    "    X_train = sparse.hstack((X_train, train_vectors))\n",
    "    \n",
    "    print('X_Train: {0}'.format(X_train.shape))\n",
    "    print('y_Train: {0}'.format(y_train.shape))\n",
    "    \n",
    "    y_test = test['Score']\n",
    "    X_test = test.drop(['Id', 'ProductId', 'UserId', 'ProfileName', 'Score', 'Summary', 'Text', 'CleanedText'], axis=1)\n",
    "    X_test = sc.transform(X_test)\n",
    "    X_test = sparse.hstack((X_test, test_vectors))\n",
    "    \n",
    "    print('X_Test: {0}'.format(X_test.shape))\n",
    "    print('y_Test: {0}'.format(y_test.shape))\n",
    "    \n",
    "    return X_train, y_train, X_test, y_test"
   ]
  },
  {
   "cell_type": "code",
   "execution_count": 6,
   "metadata": {},
   "outputs": [],
   "source": [
    "def run_NB(train, train_vectors, test, test_vectors, metric='precision_macro'):\n",
    "    '''\n",
    "    Perform Multinomial NB modelling on the I/P Train and Test data.\n",
    "    1. Remove not required Columns, Normalize data and concatenate data with the text vectors.\n",
    "    2. Perform Cross Validation and find Optimal 'alpha' - Laplace Smoothing parameter.\n",
    "    3. Use the Optimal 'alpha' based model on the Training data and evaluate the Test data.\n",
    "    4. Calculate Accuracy of Model and TPR, TNR, FPR, FNR.\n",
    "    '''\n",
    "    # Drop not required Columns, Normalize data and concatenate data with text vectors\n",
    "    X_train, y_train, X_test, y_test = normalize_data(train, train_vectors, test, test_vectors)\n",
    "    del train, train_vectors, test, test_vectors\n",
    "\n",
    "    params = {'alpha': (0.0, 0.0001, 0.001, 0.01, 0.1, 0.5, 1.0, 2.0, 10.0, 12.0, 15.0, 20.0, 22.0)}\n",
    "    nb = MultinomialNB()\n",
    "    nb_optimal = GridSearchCV(nb, param_grid=params, cv=3, scoring=metric, verbose=1, refit=True)\n",
    "    nb_optimal.fit(X_train, y_train)\n",
    "    \n",
    "    # Plot Train vs Test Scores and the Optimal Parameter\n",
    "    plot_scores(nb_optimal)\n",
    "\n",
    "    print(f'coef_ shape: {nb_optimal.best_estimator_.coef_.shape}')\n",
    "    del X_train, y_train\n",
    "    pred = []\n",
    "    \n",
    "    for i in range(0, X_test.shape[0], 2000):\n",
    "        test_batch = X_test.todok()[i:i+2000]\n",
    "        pred.extend(nb_optimal.predict(test_batch))\n",
    "\n",
    "    acc = accuracy_score(y_test, pred) * 100\n",
    "    print(f'\\nThe Accuracy of the Multinomial NB classifier for alpha = {nb_optimal.best_params_[\"alpha\"]} is {acc} %')\n",
    "    \n",
    "    conf_matrix = confusion_matrix(y_test, pred)\n",
    "    TPR = conf_matrix[1,1]/(conf_matrix[0,1] + conf_matrix[1,1])\n",
    "    TNR = conf_matrix[0,0]/(conf_matrix[0,0] + conf_matrix[1,0])\n",
    "    FPR = conf_matrix[1,0]/(conf_matrix[0,0] + conf_matrix[1,0])\n",
    "    FNR = conf_matrix[0,1]/(conf_matrix[0,1] + conf_matrix[1,1])\n",
    "    print('\\nConfusion Matrix :-')\n",
    "    print(conf_matrix)\n",
    "    print(\"\\nTPR: {0} %\\nTNR: {1} %\\nFPR: {2} %\\nFNR: {3} %\\n\".format(TPR*100, TNR*100, FPR*100, FNR*100))\n",
    "    sns.heatmap(conf_matrix, annot=True, fmt='d', cmap='coolwarm')\n",
    "    print('\\nClassification Report :-\\n')\n",
    "    print(classification_report(y_test, pred))\n",
    "    \n",
    "    return [nb_optimal.best_params_[\"alpha\"], metric, round(acc,2), round(TPR*100,2), round(TNR*100,2), \\\n",
    "            round(FPR*100,2), round(FNR*100,2), nb_optimal.best_estimator_.coef_[0]]"
   ]
  },
  {
   "cell_type": "code",
   "execution_count": 7,
   "metadata": {},
   "outputs": [],
   "source": [
    "def get_data(data_points):\n",
    "    '''\n",
    "    Perform pre-processing on raw data and extract required datapoints :: 70-30 Split.\n",
    "    '''\n",
    "    split = int(data_points * 0.70)\n",
    "    data = preprocess(raw_data)\n",
    "    train = data[:split]\n",
    "    test = data[split:data_points]\n",
    "\n",
    "    print(train['Score'].value_counts())\n",
    "    print(test['Score'].value_counts())\n",
    "    return train, test"
   ]
  },
  {
   "cell_type": "code",
   "execution_count": 8,
   "metadata": {},
   "outputs": [],
   "source": [
    "def save_model_info(model, info):\n",
    "    '''\n",
    "    Save Model info in a csv file for future use.\n",
    "    '''\n",
    "    with open(\"Model_Scores.csv\",\"a\") as f:\n",
    "        out = csv.writer(f, delimiter=',',quoting=csv.QUOTE_ALL)\n",
    "        out.writerow([model] + info)"
   ]
  },
  {
   "cell_type": "code",
   "execution_count": 9,
   "metadata": {},
   "outputs": [],
   "source": [
    "def get_best_metric(d_train, vec_train, d_test, vec_test, vectorizer=\"BOW\"):\n",
    "    pt = PrettyTable()\n",
    "    pt.field_names = [\"Text Vectorizer Model\", \"NB Model\", \"Scoring Metric\", \"Score\", \"TPR\", \"TNR\", \"FPR\", \"FNR\"]\n",
    "    metrics = ['accuracy', 'adjusted_mutual_info_score', 'adjusted_rand_score', 'average_precision', \\\n",
    "              'completeness_score', 'explained_variance', 'f1', 'f1_macro', 'f1_micro',\\\n",
    "              'f1_weighted', 'homogeneity_score', 'mutual_info_score',\\\n",
    "              'neg_log_loss', 'neg_mean_absolute_error', 'neg_mean_squared_error', 'neg_mean_squared_log_error',\\\n",
    "              'neg_median_absolute_error', 'normalized_mutual_info_score', 'precision', 'precision_macro',\\\n",
    "              'precision_micro', 'precision_weighted', 'r2', 'recall', 'recall_macro',\\\n",
    "              'recall_micro', 'recall_weighted', 'roc_auc', 'v_measure_score']\n",
    "\n",
    "    scores = []\n",
    "    for i in metrics:\n",
    "        info = run_NB(d_train, vec_train, d_test, vec_test, metric=i)\n",
    "        pt.add_row([vectorizer] + info)\n",
    "    return pt"
   ]
  },
  {
   "cell_type": "code",
   "execution_count": 9,
   "metadata": {},
   "outputs": [
    {
     "name": "stdout",
     "output_type": "stream",
     "text": [
      "Total Data-points :- 24655\n",
      "0    12473\n",
      "1     1527\n",
      "Name: Score, dtype: int64\n",
      "0    5250\n",
      "1     750\n",
      "Name: Score, dtype: int64\n",
      "Wall time: 40.2 s\n"
     ]
    }
   ],
   "source": [
    "%%time\n",
    "data_train, data_test = get_data(20000)"
   ]
  },
  {
   "cell_type": "code",
   "execution_count": 10,
   "metadata": {
    "scrolled": true
   },
   "outputs": [
    {
     "name": "stdout",
     "output_type": "stream",
     "text": [
      "(14000, 3332) (6000, 3332)\n",
      "+-----------------------+----------+------------------------------+-------+-------+-------+-------+------+\n",
      "| Text Vectorizer Model | NB Model |        Scoring Metric        | Score |  TPR  |  TNR  |  FPR  | FNR  |\n",
      "+-----------------------+----------+------------------------------+-------+-------+-------+-------+------+\n",
      "|          BOW          |   10.0   |            recall            |  89.8 | 90.76 | 69.93 | 30.07 | 9.24 |\n",
      "|          BOW          |   10.0   |       precision_macro        |  89.8 | 90.76 | 69.93 | 30.07 | 9.24 |\n",
      "|          BOW          |   10.0   |              f1              |  89.8 | 90.76 | 69.93 | 30.07 | 9.24 |\n",
      "|          BOW          |   10.0   |      explained_variance      |  89.8 | 90.76 | 69.93 | 30.07 | 9.24 |\n",
      "|          BOW          |  0.0001  |       recall_weighted        | 89.77 | 93.25 | 58.88 | 41.12 | 6.75 |\n",
      "|          BOW          |  0.0001  |         recall_micro         | 89.77 | 93.25 | 58.88 | 41.12 | 6.75 |\n",
      "|          BOW          |  0.0001  |              r2              | 89.77 | 93.25 | 58.88 | 41.12 | 6.75 |\n",
      "|          BOW          |  0.0001  |       precision_micro        | 89.77 | 93.25 | 58.88 | 41.12 | 6.75 |\n",
      "|          BOW          |  0.0001  |  neg_mean_squared_log_error  | 89.77 | 93.25 | 58.88 | 41.12 | 6.75 |\n",
      "|          BOW          |  0.0001  |    neg_mean_squared_error    | 89.77 | 93.25 | 58.88 | 41.12 | 6.75 |\n",
      "|          BOW          |  0.0001  |   neg_mean_absolute_error    | 89.77 | 93.25 | 58.88 | 41.12 | 6.75 |\n",
      "|          BOW          |  0.0001  |           f1_micro           | 89.77 | 93.25 | 58.88 | 41.12 | 6.75 |\n",
      "|          BOW          |  0.0001  |           accuracy           | 89.77 | 93.25 | 58.88 | 41.12 | 6.75 |\n",
      "|          BOW          |   0.0    |  neg_median_absolute_error   | 89.63 | 93.02 |  58.5 |  41.5 | 6.98 |\n",
      "|          BOW          |   0.1    |         f1_weighted          | 89.82 | 93.74 | 58.35 | 41.65 | 6.26 |\n",
      "|          BOW          |   0.5    |       v_measure_score        | 89.68 | 93.88 | 57.45 | 42.55 | 6.12 |\n",
      "|          BOW          |   0.5    |         recall_macro         | 89.68 | 93.88 | 57.45 | 42.55 | 6.12 |\n",
      "|          BOW          |   0.5    |      precision_weighted      | 89.68 | 93.88 | 57.45 | 42.55 | 6.12 |\n",
      "|          BOW          |   0.5    |          precision           | 89.68 | 93.88 | 57.45 | 42.55 | 6.12 |\n",
      "|          BOW          |   0.5    | normalized_mutual_info_score | 89.68 | 93.88 | 57.45 | 42.55 | 6.12 |\n",
      "|          BOW          |   0.5    |         neg_log_loss         | 89.68 | 93.88 | 57.45 | 42.55 | 6.12 |\n",
      "|          BOW          |   0.5    |      mutual_info_score       | 89.68 | 93.88 | 57.45 | 42.55 | 6.12 |\n",
      "|          BOW          |   0.5    |      homogeneity_score       | 89.68 | 93.88 | 57.45 | 42.55 | 6.12 |\n",
      "|          BOW          |   0.5    |           f1_macro           | 89.68 | 93.88 | 57.45 | 42.55 | 6.12 |\n",
      "|          BOW          |   0.5    |      completeness_score      | 89.68 | 93.88 | 57.45 | 42.55 | 6.12 |\n",
      "|          BOW          |   0.5    |     adjusted_rand_score      | 89.68 | 93.88 | 57.45 | 42.55 | 6.12 |\n",
      "|          BOW          |   0.5    |  adjusted_mutual_info_score  | 89.68 | 93.88 | 57.45 | 42.55 | 6.12 |\n",
      "|          BOW          |   1.0    |           roc_auc            | 89.48 | 93.73 | 56.62 | 43.38 | 6.27 |\n",
      "|          BOW          |   2.0    |      average_precision       | 89.35 | 93.44 | 56.28 | 43.72 | 6.56 |\n",
      "+-----------------------+----------+------------------------------+-------+-------+-------+-------+------+\n",
      "Wall time: 15min 35s\n"
     ]
    }
   ],
   "source": [
    "%%time\n",
    "cv_model = CountVectorizer(max_features=7000, min_df=10)\n",
    "bow_counts_train = cv_model.fit_transform(data_train['CleanedText'].values)\n",
    "bow_counts_test = cv_model.transform(data_test['CleanedText'].values)\n",
    "print(bow_counts_train.shape, bow_counts_test.shape)\n",
    "\n",
    "pt = get_best_metric(data_train, bow_counts_train.toarray(), data_test, bow_counts_test.toarray())\n",
    "print(pt.get_string(sortby='TNR', reversesort=True))"
   ]
  },
  {
   "cell_type": "code",
   "execution_count": 10,
   "metadata": {},
   "outputs": [
    {
     "name": "stdout",
     "output_type": "stream",
     "text": [
      "Total Data-points :- 124264\n",
      "1    48338\n",
      "0     7662\n",
      "Name: Score, dtype: int64\n",
      "1    19901\n",
      "0     4099\n",
      "Name: Score, dtype: int64\n",
      "Wall time: 3min 22s\n"
     ]
    }
   ],
   "source": [
    "%%time\n",
    "data_train, data_test = get_data(80000)\n",
    "del raw_data"
   ]
  },
  {
   "cell_type": "code",
   "execution_count": 7,
   "metadata": {},
   "outputs": [],
   "source": [
    "data_train = pd.read_csv('./Matrices/data_train.csv')\n",
    "data_test = pd.read_csv('./Matrices/data_test.csv')"
   ]
  },
  {
   "cell_type": "markdown",
   "metadata": {},
   "source": [
    "# BOW model with 80k datapoints"
   ]
  },
  {
   "cell_type": "code",
   "execution_count": 8,
   "metadata": {
    "scrolled": true
   },
   "outputs": [
    {
     "name": "stdout",
     "output_type": "stream",
     "text": [
      "(56000, 9397) (24000, 9397)\n",
      "(56000, 4) (56000, 9397)\n",
      "X_Train: (56000, 9401)\n",
      "y_Train: (56000,)\n",
      "X_Test: (24000, 9401)\n",
      "y_Test: (24000,)\n",
      "Fitting 3 folds for each of 13 candidates, totalling 39 fits\n"
     ]
    },
    {
     "name": "stderr",
     "output_type": "stream",
     "text": [
      "[Parallel(n_jobs=1)]: Done  39 out of  39 | elapsed:    2.0s finished\n"
     ]
    },
    {
     "data": {
      "image/png": "[encoded data removed]",
      "text/plain": [
       "<matplotlib.figure.Figure at 0x2bde248f2b0>"
      ]
     },
     "metadata": {},
     "output_type": "display_data"
    },
    {
     "name": "stdout",
     "output_type": "stream",
     "text": [
      "coef_ shape: (1, 9401)\n",
      "\n",
      "The Accuracy of the Multinomial NB classifier for alpha = 20.0 is 87.10833333333333 %\n",
      "\n",
      "Confusion Matrix :-\n",
      "[[ 1186  2913]\n",
      " [  181 19720]]\n",
      "\n",
      "TPR: 87.1294128043123 %\n",
      "TNR: 86.75932699341624 %\n",
      "FPR: 13.240673006583762 %\n",
      "FNR: 12.870587195687714 %\n",
      "\n",
      "\n",
      "Classification Report :-\n",
      "\n",
      "             precision    recall  f1-score   support\n",
      "\n",
      "          0       0.87      0.29      0.43      4099\n",
      "          1       0.87      0.99      0.93     19901\n",
      "\n",
      "avg / total       0.87      0.87      0.84     24000\n",
      "\n",
      "Wall time: 16.9 s\n"
     ]
    },
    {
     "data": {
      "image/png": "[encoded data removed]",
      "text/plain": [
       "<matplotlib.figure.Figure at 0x2bdf0790ac8>"
      ]
     },
     "metadata": {},
     "output_type": "display_data"
    }
   ],
   "source": [
    "%%time\n",
    "cv_model = CountVectorizer(max_features=15000, min_df=5)\n",
    "bow_counts_train = cv_model.fit_transform(data_train['CleanedText'].values)\n",
    "bow_counts_test = cv_model.transform(data_test['CleanedText'].values)\n",
    "print(bow_counts_train.shape, bow_counts_test.shape)\n",
    "\n",
    "info = run_NB(data_train, bow_counts_train, data_test, bow_counts_test, metric='precision_macro')"
   ]
  },
  {
   "cell_type": "code",
   "execution_count": 9,
   "metadata": {
    "scrolled": true
   },
   "outputs": [
    {
     "name": "stdout",
     "output_type": "stream",
     "text": [
      "+--------------+------------------------+---------------+---------------+\n",
      "| Lowest_Coeff |     Worst_Features     | Highest Coeff | Best_Features |\n",
      "+--------------+------------------------+---------------+---------------+\n",
      "|   -11.555    |          bleh          |     -3.764    |      Time     |\n",
      "|   -11.555    |        dislodg         |     -4.476    |      not      |\n",
      "|   -11.555    |       misfortun        |     -4.487    |     great     |\n",
      "|   -11.555    |        nastiest        |     -4.561    |      like     |\n",
      "|   -11.555    |       toxicolog        |     -4.565    |      good     |\n",
      "|   -11.555    |        unremark        |     -4.624    |      tast     |\n",
      "|   -11.555    |  HelpfulnessNumerator  |     -4.638    |      love     |\n",
      "|   -11.555    | HelpfulnessDenominator |     -4.771    |     flavor    |\n",
      "|   -11.555    |       TextLength       |     -4.874    |      tea      |\n",
      "|   -11.506    |         atroci         |     -4.911    |      use      |\n",
      "|   -11.506    |        autolyz         |     -4.919    |      one      |\n",
      "|   -11.506    |       bandwagon        |     -5.021    |    product    |\n",
      "|   -11.506    |         bismol         |     -5.03     |      tri      |\n",
      "|   -11.506    |       carageenan       |     -5.118    |     coffe     |\n",
      "|   -11.506    |        catalina        |     -5.163    |      best     |\n",
      "|   -11.506    |         crumbi         |     -5.174    |      make     |\n",
      "|   -11.506    |        embarras        |     -5.198    |      get      |\n",
      "|   -11.506    |         fraud          |     -5.232    |      food     |\n",
      "|   -11.506    |        fraudul         |     -5.46     |      eat      |\n",
      "|   -11.506    |        grayish         |     -5.512    |      buy      |\n",
      "+--------------+------------------------+---------------+---------------+\n",
      "Wall time: 15.6 ms\n"
     ]
    }
   ],
   "source": [
    "%%time\n",
    "n = 20; coeffs = info[-1]; coef_pt = PrettyTable();\n",
    "coef_pt.field_names = [\"Lowest_Coeff\", \"Worst_Features\", \"Highest Coeff\", \"Best_Features\"]\n",
    "feature_names = ['HelpfulnessNumerator', 'HelpfulnessDenominator', 'Time', 'TextLength'] + cv_model.get_feature_names()\n",
    "coefs_with_fns = sorted(zip(coeffs, feature_names))\n",
    "top = zip(coefs_with_fns[:n], coefs_with_fns[:-(n + 1):-1])\n",
    "for (coef_1, fn_1), (coef_2, fn_2) in top:\n",
    "    coef_pt.add_row([round(coef_1,3), fn_1, round(coef_2,3), fn_2])\n",
    "print(coef_pt)"
   ]
  },
  {
   "cell_type": "code",
   "execution_count": 10,
   "metadata": {},
   "outputs": [
    {
     "name": "stdout",
     "output_type": "stream",
     "text": [
      "+-----------------------+-----------------+-----------------+----------+-------+-------+-------+-------+\n",
      "| Text Vectorizer Model | Optimal K-value |  Scoring Metric | Accuracy |  TPR  |  TNR  |  FPR  |  FNR  |\n",
      "+-----------------------+-----------------+-----------------+----------+-------+-------+-------+-------+\n",
      "|          BOW          |       20.0      | precision_macro |  87.11   | 87.13 | 86.76 | 13.24 | 12.87 |\n",
      "+-----------------------+-----------------+-----------------+----------+-------+-------+-------+-------+\n"
     ]
    }
   ],
   "source": [
    "pt.add_row([\"BOW\"] + info[:-1])\n",
    "print(pt)"
   ]
  },
  {
   "cell_type": "code",
   "execution_count": 11,
   "metadata": {},
   "outputs": [],
   "source": [
    "del cv_model, bow_counts_train, bow_counts_test"
   ]
  },
  {
   "cell_type": "markdown",
   "metadata": {},
   "source": [
    "# TFIDF model with 80k datapoints"
   ]
  },
  {
   "cell_type": "code",
   "execution_count": 12,
   "metadata": {
    "scrolled": true
   },
   "outputs": [
    {
     "name": "stdout",
     "output_type": "stream",
     "text": [
      "(56000, 9397) (24000, 9397)\n",
      "(56000, 4) (56000, 9397)\n",
      "X_Train: (56000, 9401)\n",
      "y_Train: (56000,)\n",
      "X_Test: (24000, 9401)\n",
      "y_Test: (24000,)\n",
      "Fitting 3 folds for each of 13 candidates, totalling 39 fits\n"
     ]
    },
    {
     "name": "stderr",
     "output_type": "stream",
     "text": [
      "[Parallel(n_jobs=1)]: Done  39 out of  39 | elapsed:    2.1s finished\n"
     ]
    },
    {
     "data": {
      "image/png": "[encoded data removed]",
      "text/plain": [
       "<matplotlib.figure.Figure at 0x2bd87be4a58>"
      ]
     },
     "metadata": {},
     "output_type": "display_data"
    },
    {
     "name": "stdout",
     "output_type": "stream",
     "text": [
      "coef_ shape: (1, 9401)\n",
      "\n",
      "The Accuracy of the Multinomial NB classifier for alpha = 0.01 is 87.10833333333333 %\n",
      "\n",
      "Confusion Matrix :-\n",
      "[[ 1099  3000]\n",
      " [   94 19807]]\n",
      "\n",
      "TPR: 86.84614372780287 %\n",
      "TNR: 92.12070410729254 %\n",
      "FPR: 7.879295892707461 %\n",
      "FNR: 13.153856272197132 %\n",
      "\n",
      "\n",
      "Classification Report :-\n",
      "\n",
      "             precision    recall  f1-score   support\n",
      "\n",
      "          0       0.92      0.27      0.42      4099\n",
      "          1       0.87      1.00      0.93     19901\n",
      "\n",
      "avg / total       0.88      0.87      0.84     24000\n",
      "\n",
      "Wall time: 16.9 s\n"
     ]
    },
    {
     "data": {
      "image/png": "[encoded data removed]",
      "text/plain": [
       "<matplotlib.figure.Figure at 0x2bdf0729e48>"
      ]
     },
     "metadata": {},
     "output_type": "display_data"
    }
   ],
   "source": [
    "%%time\n",
    "tfidf_model = TfidfVectorizer(max_features=15000, min_df=5)\n",
    "tfidf_train = tfidf_model.fit_transform(data_train['CleanedText'].values)\n",
    "tfidf_test = tfidf_model.transform(data_test['CleanedText'].values)\n",
    "print(tfidf_train.shape, tfidf_test.shape)\n",
    "\n",
    "info = run_NB(data_train, tfidf_train, data_test, tfidf_test, metric='precision_macro')"
   ]
  },
  {
   "cell_type": "code",
   "execution_count": 13,
   "metadata": {
    "scrolled": true
   },
   "outputs": [
    {
     "name": "stdout",
     "output_type": "stream",
     "text": [
      "+--------------+------------------------+---------------+---------------+\n",
      "| Lowest_Coeff |     Worst_Features     | Highest Coeff | Best_Features |\n",
      "+--------------+------------------------+---------------+---------------+\n",
      "|    -17.12    |          bleh          |     -1.729    |      Time     |\n",
      "|    -17.12    |        dislodg         |     -4.985    |     great     |\n",
      "|    -17.12    |       misfortun        |     -5.118    |      love     |\n",
      "|    -17.12    |        nastiest        |     -5.147    |      good     |\n",
      "|    -17.12    |       toxicolog        |     -5.252    |      tea      |\n",
      "|    -17.12    |        unremark        |     -5.309    |      tast     |\n",
      "|    -17.11    |  HelpfulnessNumerator  |     -5.333    |      like     |\n",
      "|   -17.109    | HelpfulnessDenominator |     -5.356    |      not      |\n",
      "|   -17.105    |       TextLength       |     -5.39     |     flavor    |\n",
      "|    -15.0     |       professor        |     -5.401    |     coffe     |\n",
      "|   -14.964    |         fraud          |     -5.49     |      best     |\n",
      "|   -14.964    |        fraudul         |     -5.519    |    product    |\n",
      "|   -14.876    |       bandwagon        |     -5.556    |      use      |\n",
      "|   -14.814    |         unsuit         |     -5.601    |      one      |\n",
      "|   -14.778    |        weakest         |     -5.653    |      tri      |\n",
      "|   -14.582    |         violat         |     -5.751    |      make     |\n",
      "|   -14.386    |        embarras        |     -5.773    |      get      |\n",
      "|   -14.352    |       carageenan       |     -5.803    |      food     |\n",
      "|   -14.339    |        tastless        |     -5.856    |      dog      |\n",
      "|   -14.325    |        myocardi        |     -5.865    |     price     |\n",
      "+--------------+------------------------+---------------+---------------+\n",
      "Wall time: 15.6 ms\n"
     ]
    }
   ],
   "source": [
    "%%time\n",
    "n = 20; coeffs = info[-1]; coef_pt = PrettyTable();\n",
    "coef_pt.field_names = [\"Lowest_Coeff\", \"Worst_Features\", \"Highest Coeff\", \"Best_Features\"]\n",
    "feature_names = ['HelpfulnessNumerator', 'HelpfulnessDenominator', 'Time', 'TextLength'] \\\n",
    "                    + tfidf_model.get_feature_names()\n",
    "coefs_with_fns = sorted(zip(coeffs, feature_names))\n",
    "top = zip(coefs_with_fns[:n], coefs_with_fns[:-(n + 1):-1])\n",
    "for (coef_1, fn_1), (coef_2, fn_2) in top:\n",
    "    coef_pt.add_row([round(coef_1,3), fn_1, round(coef_2,3), fn_2])\n",
    "print(coef_pt)"
   ]
  },
  {
   "cell_type": "code",
   "execution_count": 14,
   "metadata": {},
   "outputs": [
    {
     "name": "stdout",
     "output_type": "stream",
     "text": [
      "+-----------------------+-----------------+-----------------+----------+-------+-------+-------+-------+\n",
      "| Text Vectorizer Model | Optimal K-value |  Scoring Metric | Accuracy |  TPR  |  TNR  |  FPR  |  FNR  |\n",
      "+-----------------------+-----------------+-----------------+----------+-------+-------+-------+-------+\n",
      "|          BOW          |       20.0      | precision_macro |  87.11   | 87.13 | 86.76 | 13.24 | 12.87 |\n",
      "|         TFIDF         |       0.01      | precision_macro |  87.11   | 86.85 | 92.12 |  7.88 | 13.15 |\n",
      "+-----------------------+-----------------+-----------------+----------+-------+-------+-------+-------+\n"
     ]
    }
   ],
   "source": [
    "pt.add_row([\"TFIDF\"] + info[:-1])\n",
    "print(pt)"
   ]
  },
  {
   "cell_type": "code",
   "execution_count": 15,
   "metadata": {},
   "outputs": [],
   "source": [
    "del tfidf_model, tfidf_train, tfidf_test"
   ]
  },
  {
   "cell_type": "markdown",
   "metadata": {},
   "source": [
    "# Conclusions :-\n",
    "-  For this Classification problem, Multinomial NB has been selected as the dataset contains discrete data - frequency of words through the use of Text Vectors (BOW and TFIDF).\n",
    "-  The Dataset being highly imbalanced (8:1) the Scoring metric has been selected based on the Model performance of - high TPR & TNR and low FPR & FNR.\n",
    "-  Based on the above performance criteria, both 'recall' and 'precision_macro' have shown to provide high True Negative Rate (TNR) or low False Positive Rate (FPR). Here, a subset of data has been taken and various Scoring Metrics have been applied to determine the best one. 'precision_macro' metric has been used here to evaluate the models. \n",
    "-  From the Performances obtained on the two Vectorizer models, it has been observed that TFIDF Vectorizer is giving the best performance - high TPR with a higher TNR.\n",
    "-  The Model performance might improve if the unbalancedness of the dataset can be treated with Oversampling - repeating Minority class or creating Synthetic datapoints using SMOTE.\n",
    "-  Reducing the 'n_components' in the Vectorizer models has proved to increase the True Negative Rate.\n",
    "-  The best features in both the Text-Vectorizer models shows similar results."
   ]
  }
 ],
 "metadata": {
  "kernelspec": {
   "display_name": "Python 3",
   "language": "python",
   "name": "python3"
  },
  "language_info": {
   "codemirror_mode": {
    "name": "ipython",
    "version": 3
   },
   "file_extension": ".py",
   "mimetype": "text/x-python",
   "name": "python",
   "nbconvert_exporter": "python",
   "pygments_lexer": "ipython3",
   "version": "3.6.4"
  }
 },
 "nbformat": 4,
 "nbformat_minor": 2
}
