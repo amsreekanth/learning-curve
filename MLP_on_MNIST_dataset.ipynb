{
 "cells": [
  {
   "cell_type": "code",
   "execution_count": 0,
   "metadata": {
    "colab": {},
    "colab_type": "code",
    "id": "eK9-FdGJ21xl"
   },
   "outputs": [],
   "source": [
    "%matplotlib notebook\n",
    "%matplotlib inline\n",
    "import matplotlib.pyplot as plt\n",
    "import numpy as np\n",
    "import time\n",
    "from keras.utils import np_utils\n",
    "from keras.datasets import mnist\n",
    "from keras.models import Sequential\n",
    "from keras.layers import Dense, Activation, Dropout, BatchNormalization\n",
    "import seaborn as sns\n",
    "import cv2"
   ]
  },
  {
   "cell_type": "code",
   "execution_count": 0,
   "metadata": {
    "colab": {},
    "colab_type": "code",
    "id": "tXcPy55ZIVwb"
   },
   "outputs": [],
   "source": [
    "def plot_loss(x, vy, ty, xlabel='Epoch', ylabel='Categorical Crossentropy Loss'):\n",
    "  _, = plt.plot(x, vy, 'b', label=\"Validation Loss\")\n",
    "  _, = plt.plot(x, ty, 'r', label=\"Train Loss\")\n",
    "  plt.xlabel(xlabel)\n",
    "  plt.ylabel(ylabel)\n",
    "  \n",
    "  plt.grid()\n",
    "  plt.legend()\n",
    "  plt.grid()\n",
    "  plt.show()"
   ]
  },
  {
   "cell_type": "code",
   "execution_count": 0,
   "metadata": {
    "colab": {},
    "colab_type": "code",
    "id": "zduBJW2_69rz"
   },
   "outputs": [],
   "source": [
    "(X_train, y_train), (X_test, y_test) = mnist.load_data()"
   ]
  },
  {
   "cell_type": "code",
   "execution_count": 17,
   "metadata": {
    "colab": {
     "base_uri": "https://localhost:8080/",
     "height": 282
    },
    "colab_type": "code",
    "id": "8J_c1G1B-GUi",
    "outputId": "a8f2d0cd-484c-492b-e3ce-e0c0393bfc6f"
   },
   "outputs": [
    {
     "data": {
      "text/plain": [
       "<matplotlib.image.AxesImage at 0x7f856fdc1390>"
      ]
     },
     "execution_count": 17,
     "metadata": {
      "tags": []
     },
     "output_type": "execute_result"
    },
    {
     "data": {
      "image/png": "[encoded data removed]",
      "text/plain": [
       "<matplotlib.figure.Figure at 0x7f85910a0630>"
      ]
     },
     "metadata": {
      "tags": []
     },
     "output_type": "display_data"
    }
   ],
   "source": [
    "plt.imshow(X_train[0])"
   ]
  },
  {
   "cell_type": "code",
   "execution_count": 18,
   "metadata": {
    "colab": {
     "base_uri": "https://localhost:8080/",
     "height": 34
    },
    "colab_type": "code",
    "id": "UJ7Pbizw69u1",
    "outputId": "4bb1a72a-c0b3-48ec-b8de-d084ee62a39f"
   },
   "outputs": [
    {
     "name": "stdout",
     "output_type": "stream",
     "text": [
      "(60000, 784) (10000, 784)\n"
     ]
    }
   ],
   "source": [
    "X_train = X_train.reshape(X_train.shape[0], X_train.shape[1] * X_train.shape[2])\n",
    "X_test = X_test.reshape(X_test.shape[0], X_test.shape[1] * X_test.shape[2])\n",
    "print(X_train.shape, X_test.shape)"
   ]
  },
  {
   "cell_type": "code",
   "execution_count": 0,
   "metadata": {
    "colab": {},
    "colab_type": "code",
    "id": "RvgAb8-h69yj"
   },
   "outputs": [],
   "source": [
    "X_train = X_train/255.0\n",
    "X_test = X_test/255.0"
   ]
  },
  {
   "cell_type": "code",
   "execution_count": 20,
   "metadata": {
    "colab": {
     "base_uri": "https://localhost:8080/",
     "height": 34
    },
    "colab_type": "code",
    "id": "At3G5J1x691-",
    "outputId": "af740608-1a30-4a45-976a-ebe50bce761d"
   },
   "outputs": [
    {
     "name": "stdout",
     "output_type": "stream",
     "text": [
      "[0. 0. 0. 0. 0. 1. 0. 0. 0. 0.]\n"
     ]
    }
   ],
   "source": [
    "# print(X_train[0])\n",
    "y_train = np_utils.to_categorical(y_train, 10)\n",
    "y_test = np_utils.to_categorical(y_test, 10)\n",
    "print(y_train[0])"
   ]
  },
  {
   "cell_type": "markdown",
   "metadata": {
    "colab_type": "text",
    "id": "32RJ2ap4K9-d"
   },
   "source": [
    "# **MLP with 2 Hidden Layers (H1_700 >> H2_180)**"
   ]
  },
  {
   "cell_type": "code",
   "execution_count": 21,
   "metadata": {
    "colab": {
     "base_uri": "https://localhost:8080/",
     "height": 1321
    },
    "colab_type": "code",
    "id": "li0rjyZDHqZk",
    "outputId": "d314a0d2-40a6-48c9-f49d-464fbb293a83"
   },
   "outputs": [
    {
     "name": "stdout",
     "output_type": "stream",
     "text": [
      "_________________________________________________________________\n",
      "Layer (type)                 Output Shape              Param #   \n",
      "=================================================================\n",
      "dense_34 (Dense)             (None, 700)               549500    \n",
      "_________________________________________________________________\n",
      "dense_35 (Dense)             (None, 180)               126180    \n",
      "_________________________________________________________________\n",
      "dense_36 (Dense)             (None, 10)                1810      \n",
      "=================================================================\n",
      "Total params: 677,490\n",
      "Trainable params: 677,490\n",
      "Non-trainable params: 0\n",
      "_________________________________________________________________\n",
      "None\n",
      "\n",
      "Train on 42000 samples, validate on 18000 samples\n",
      "Epoch 1/20\n",
      "42000/42000 [==============================] - 4s 103us/step - loss: 0.2590 - acc: 0.9248 - val_loss: 0.1388 - val_acc: 0.9587\n",
      "Epoch 2/20\n",
      "42000/42000 [==============================] - 3s 62us/step - loss: 0.0926 - acc: 0.9714 - val_loss: 0.1132 - val_acc: 0.9666\n",
      "Epoch 3/20\n",
      "42000/42000 [==============================] - 3s 62us/step - loss: 0.0550 - acc: 0.9837 - val_loss: 0.0933 - val_acc: 0.9726\n",
      "Epoch 4/20\n",
      "42000/42000 [==============================] - 3s 62us/step - loss: 0.0395 - acc: 0.9872 - val_loss: 0.0925 - val_acc: 0.9722\n",
      "Epoch 5/20\n",
      "42000/42000 [==============================] - 3s 62us/step - loss: 0.0243 - acc: 0.9923 - val_loss: 0.1017 - val_acc: 0.9713\n",
      "Epoch 6/20\n",
      "42000/42000 [==============================] - 3s 63us/step - loss: 0.0165 - acc: 0.9951 - val_loss: 0.0942 - val_acc: 0.9756\n",
      "Epoch 7/20\n",
      "42000/42000 [==============================] - 3s 63us/step - loss: 0.0138 - acc: 0.9959 - val_loss: 0.0965 - val_acc: 0.9752\n",
      "Epoch 8/20\n",
      "42000/42000 [==============================] - 3s 63us/step - loss: 0.0146 - acc: 0.9952 - val_loss: 0.1036 - val_acc: 0.9762\n",
      "Epoch 9/20\n",
      "42000/42000 [==============================] - 3s 64us/step - loss: 0.0161 - acc: 0.9947 - val_loss: 0.1025 - val_acc: 0.9758\n",
      "Epoch 10/20\n",
      "42000/42000 [==============================] - 3s 63us/step - loss: 0.0131 - acc: 0.9954 - val_loss: 0.1174 - val_acc: 0.9732\n",
      "Epoch 11/20\n",
      "42000/42000 [==============================] - 3s 65us/step - loss: 0.0099 - acc: 0.9968 - val_loss: 0.1121 - val_acc: 0.9763\n",
      "Epoch 12/20\n",
      "42000/42000 [==============================] - 3s 63us/step - loss: 0.0096 - acc: 0.9970 - val_loss: 0.1006 - val_acc: 0.9776\n",
      "Epoch 13/20\n",
      "42000/42000 [==============================] - 3s 62us/step - loss: 0.0121 - acc: 0.9965 - val_loss: 0.1190 - val_acc: 0.9739\n",
      "Epoch 14/20\n",
      "42000/42000 [==============================] - 3s 62us/step - loss: 0.0057 - acc: 0.9980 - val_loss: 0.1097 - val_acc: 0.9777\n",
      "Epoch 15/20\n",
      "42000/42000 [==============================] - 3s 62us/step - loss: 0.0032 - acc: 0.9990 - val_loss: 0.1195 - val_acc: 0.9757\n",
      "Epoch 16/20\n",
      "42000/42000 [==============================] - 3s 62us/step - loss: 0.0023 - acc: 0.9993 - val_loss: 0.1222 - val_acc: 0.9761\n",
      "Epoch 17/20\n",
      "42000/42000 [==============================] - 3s 63us/step - loss: 0.0111 - acc: 0.9963 - val_loss: 0.1347 - val_acc: 0.9727\n",
      "Epoch 18/20\n",
      "42000/42000 [==============================] - 3s 63us/step - loss: 0.0146 - acc: 0.9949 - val_loss: 0.1366 - val_acc: 0.9726\n",
      "Epoch 19/20\n",
      "42000/42000 [==============================] - 3s 62us/step - loss: 0.0084 - acc: 0.9970 - val_loss: 0.1304 - val_acc: 0.9749\n",
      "Epoch 20/20\n",
      "42000/42000 [==============================] - 3s 63us/step - loss: 0.0049 - acc: 0.9982 - val_loss: 0.1347 - val_acc: 0.9752\n",
      "\n",
      "Test Score: 0.10740133521587608\n",
      "Test Accuracy: 0.9794\n",
      "\n"
     ]
    },
    {
     "data": {
      "image/png": "[encoded data removed]",
      "text/plain": [
       "<matplotlib.figure.Figure at 0x7f856fd4d240>"
      ]
     },
     "metadata": {
      "tags": []
     },
     "output_type": "display_data"
    },
    {
     "name": "stdout",
     "output_type": "stream",
     "text": [
      "CPU times: user 1min 1s, sys: 8.64 s, total: 1min 10s\n",
      "Wall time: 56.1 s\n"
     ]
    }
   ],
   "source": [
    "%%time\n",
    "def build_ann_a(in_dim, out_dim=10):\n",
    "  model = Sequential()\n",
    "  model.add(Dense(700, activation='relu', kernel_initializer='he_normal', input_shape=(in_dim,)))\n",
    "  \n",
    "  model.add(Dense(180, activation='relu', kernel_initializer='he_normal'))\n",
    "  \n",
    "  model.add(Dense(out_dim, activation='softmax'))\n",
    "\n",
    "  model.compile(optimizer='Adam', loss='categorical_crossentropy', metrics=['accuracy'])\n",
    "  print(model.summary())\n",
    "\n",
    "  return model\n",
    "\n",
    "model = build_ann_a(X_train.shape[1])\n",
    "print()\n",
    "batch_size=128; epochs=20;\n",
    "history = model.fit(X_train, y_train, batch_size=batch_size, epochs=epochs, validation_split=0.3, verbose=1)\n",
    "print()\n",
    "\n",
    "score = model.evaluate(X_test, y_test, verbose=0)\n",
    "print(f'Test Score: {score[0]}')\n",
    "print(f'Test Accuracy: {score[1]}\\n')\n",
    "\n",
    "x = list(range(1, epochs+1))\n",
    "vy = history.history['val_loss']\n",
    "ty = history.history['loss']\n",
    "plot_loss(x, vy, ty)"
   ]
  },
  {
   "cell_type": "markdown",
   "metadata": {
    "colab_type": "text",
    "id": "ZsYuryXILyH5"
   },
   "source": [
    "# **MLP with 2 Hidden Layers with Batch Normalization (H1_700 >> H2_180)**"
   ]
  },
  {
   "cell_type": "code",
   "execution_count": 22,
   "metadata": {
    "colab": {
     "base_uri": "https://localhost:8080/",
     "height": 1388
    },
    "colab_type": "code",
    "id": "-3TLxW9lHgNO",
    "outputId": "18f64cae-6749-4583-d453-5f9551f314f6"
   },
   "outputs": [
    {
     "name": "stdout",
     "output_type": "stream",
     "text": [
      "_________________________________________________________________\n",
      "Layer (type)                 Output Shape              Param #   \n",
      "=================================================================\n",
      "dense_37 (Dense)             (None, 700)               549500    \n",
      "_________________________________________________________________\n",
      "batch_normalization_28 (Batc (None, 700)               2800      \n",
      "_________________________________________________________________\n",
      "dense_38 (Dense)             (None, 180)               126180    \n",
      "_________________________________________________________________\n",
      "batch_normalization_29 (Batc (None, 180)               720       \n",
      "_________________________________________________________________\n",
      "dense_39 (Dense)             (None, 10)                1810      \n",
      "=================================================================\n",
      "Total params: 681,010\n",
      "Trainable params: 679,250\n",
      "Non-trainable params: 1,760\n",
      "_________________________________________________________________\n",
      "None\n",
      "\n",
      "Train on 42000 samples, validate on 18000 samples\n",
      "Epoch 1/20\n",
      "42000/42000 [==============================] - 7s 168us/step - loss: 0.2056 - acc: 0.9387 - val_loss: 0.1194 - val_acc: 0.9648\n",
      "Epoch 2/20\n",
      "42000/42000 [==============================] - 4s 105us/step - loss: 0.0708 - acc: 0.9792 - val_loss: 0.1026 - val_acc: 0.9693\n",
      "Epoch 3/20\n",
      "42000/42000 [==============================] - 4s 105us/step - loss: 0.0443 - acc: 0.9863 - val_loss: 0.0980 - val_acc: 0.9706\n",
      "Epoch 4/20\n",
      "42000/42000 [==============================] - 4s 104us/step - loss: 0.0283 - acc: 0.9913 - val_loss: 0.1169 - val_acc: 0.9666\n",
      "Epoch 5/20\n",
      "42000/42000 [==============================] - 4s 106us/step - loss: 0.0208 - acc: 0.9935 - val_loss: 0.1073 - val_acc: 0.9708\n",
      "Epoch 6/20\n",
      "42000/42000 [==============================] - 4s 104us/step - loss: 0.0247 - acc: 0.9924 - val_loss: 0.1121 - val_acc: 0.9704\n",
      "Epoch 7/20\n",
      "42000/42000 [==============================] - 4s 105us/step - loss: 0.0171 - acc: 0.9948 - val_loss: 0.0979 - val_acc: 0.9741\n",
      "Epoch 8/20\n",
      "42000/42000 [==============================] - 4s 105us/step - loss: 0.0168 - acc: 0.9945 - val_loss: 0.1037 - val_acc: 0.9745\n",
      "Epoch 9/20\n",
      "42000/42000 [==============================] - 5s 109us/step - loss: 0.0111 - acc: 0.9966 - val_loss: 0.1034 - val_acc: 0.9750\n",
      "Epoch 10/20\n",
      "42000/42000 [==============================] - 4s 106us/step - loss: 0.0119 - acc: 0.9963 - val_loss: 0.1146 - val_acc: 0.9727\n",
      "Epoch 11/20\n",
      "42000/42000 [==============================] - 4s 104us/step - loss: 0.0228 - acc: 0.9928 - val_loss: 0.1200 - val_acc: 0.9717\n",
      "Epoch 12/20\n",
      "42000/42000 [==============================] - 4s 102us/step - loss: 0.0138 - acc: 0.9952 - val_loss: 0.0976 - val_acc: 0.9749\n",
      "Epoch 13/20\n",
      "42000/42000 [==============================] - 4s 103us/step - loss: 0.0135 - acc: 0.9958 - val_loss: 0.1044 - val_acc: 0.9748\n",
      "Epoch 14/20\n",
      "42000/42000 [==============================] - 4s 104us/step - loss: 0.0144 - acc: 0.9950 - val_loss: 0.0949 - val_acc: 0.9780\n",
      "Epoch 15/20\n",
      "42000/42000 [==============================] - 4s 104us/step - loss: 0.0102 - acc: 0.9965 - val_loss: 0.0962 - val_acc: 0.9782\n",
      "Epoch 16/20\n",
      "42000/42000 [==============================] - 4s 104us/step - loss: 0.0045 - acc: 0.9987 - val_loss: 0.1033 - val_acc: 0.9776\n",
      "Epoch 17/20\n",
      "42000/42000 [==============================] - 4s 102us/step - loss: 0.0033 - acc: 0.9992 - val_loss: 0.0880 - val_acc: 0.9802\n",
      "Epoch 18/20\n",
      "42000/42000 [==============================] - 4s 104us/step - loss: 0.0065 - acc: 0.9980 - val_loss: 0.1216 - val_acc: 0.9736\n",
      "Epoch 19/20\n",
      "42000/42000 [==============================] - 4s 103us/step - loss: 0.0108 - acc: 0.9965 - val_loss: 0.1205 - val_acc: 0.9744\n",
      "Epoch 20/20\n",
      "42000/42000 [==============================] - 4s 102us/step - loss: 0.0085 - acc: 0.9973 - val_loss: 0.1090 - val_acc: 0.9766\n",
      "\n",
      "Test Score: 0.0982919588917317\n",
      "Test Accuracy: 0.9783\n",
      "\n"
     ]
    },
    {
     "data": {
      "image/png": "[encoded data removed]",
      "text/plain": [
       "<matplotlib.figure.Figure at 0x7f856f780908>"
      ]
     },
     "metadata": {
      "tags": []
     },
     "output_type": "display_data"
    },
    {
     "name": "stdout",
     "output_type": "stream",
     "text": [
      "CPU times: user 1min 46s, sys: 15.8 s, total: 2min 1s\n",
      "Wall time: 1min 32s\n"
     ]
    }
   ],
   "source": [
    "%%time\n",
    "def build_ann_b(in_dim, out_dim=10):\n",
    "  model = Sequential()\n",
    "  model.add(Dense(700, activation='relu', kernel_initializer='he_normal', input_shape=(in_dim,)))\n",
    "  model.add(BatchNormalization())\n",
    "  \n",
    "  model.add(Dense(180, activation='relu', kernel_initializer='he_normal'))\n",
    "  model.add(BatchNormalization())\n",
    "  \n",
    "  model.add(Dense(out_dim, activation='softmax'))\n",
    "\n",
    "  model.compile(optimizer='Adam', loss='categorical_crossentropy', metrics=['accuracy'])\n",
    "  print(model.summary())\n",
    "\n",
    "  return model\n",
    "\n",
    "model = build_ann_b(X_train.shape[1])\n",
    "print()\n",
    "batch_size=128; epochs=20;\n",
    "history = model.fit(X_train, y_train, batch_size=batch_size, epochs=epochs, validation_split=0.3, verbose=1)\n",
    "print()\n",
    "\n",
    "score = model.evaluate(X_test, y_test, verbose=0)\n",
    "print(f'Test Score: {score[0]}')\n",
    "print(f'Test Accuracy: {score[1]}\\n')\n",
    "\n",
    "x = list(range(1, epochs+1))\n",
    "vy = history.history['val_loss']\n",
    "ty = history.history['loss']\n",
    "plot_loss(x, vy, ty)"
   ]
  },
  {
   "cell_type": "markdown",
   "metadata": {
    "colab_type": "text",
    "id": "5PhGFLzAMDnE"
   },
   "source": [
    "# **MLP with 2 Hidden Layers with Dropout (H1_700 >> H2_180)**"
   ]
  },
  {
   "cell_type": "code",
   "execution_count": 23,
   "metadata": {
    "colab": {
     "base_uri": "https://localhost:8080/",
     "height": 1388
    },
    "colab_type": "code",
    "id": "fi9LTCa0HgQl",
    "outputId": "3e14aca3-bb0d-440b-c036-2b72a173d03c"
   },
   "outputs": [
    {
     "name": "stdout",
     "output_type": "stream",
     "text": [
      "_________________________________________________________________\n",
      "Layer (type)                 Output Shape              Param #   \n",
      "=================================================================\n",
      "dense_40 (Dense)             (None, 700)               549500    \n",
      "_________________________________________________________________\n",
      "dropout_24 (Dropout)         (None, 700)               0         \n",
      "_________________________________________________________________\n",
      "dense_41 (Dense)             (None, 180)               126180    \n",
      "_________________________________________________________________\n",
      "dropout_25 (Dropout)         (None, 180)               0         \n",
      "_________________________________________________________________\n",
      "dense_42 (Dense)             (None, 10)                1810      \n",
      "=================================================================\n",
      "Total params: 677,490\n",
      "Trainable params: 677,490\n",
      "Non-trainable params: 0\n",
      "_________________________________________________________________\n",
      "None\n",
      "\n",
      "Train on 42000 samples, validate on 18000 samples\n",
      "Epoch 1/20\n",
      "42000/42000 [==============================] - 5s 116us/step - loss: 0.4769 - acc: 0.8527 - val_loss: 0.1716 - val_acc: 0.9474\n",
      "Epoch 2/20\n",
      "42000/42000 [==============================] - 3s 68us/step - loss: 0.2059 - acc: 0.9386 - val_loss: 0.1248 - val_acc: 0.9622\n",
      "Epoch 3/20\n",
      "42000/42000 [==============================] - 3s 68us/step - loss: 0.1580 - acc: 0.9527 - val_loss: 0.1101 - val_acc: 0.9668\n",
      "Epoch 4/20\n",
      "42000/42000 [==============================] - 3s 68us/step - loss: 0.1276 - acc: 0.9614 - val_loss: 0.1100 - val_acc: 0.9677\n",
      "Epoch 5/20\n",
      "42000/42000 [==============================] - 3s 68us/step - loss: 0.1095 - acc: 0.9663 - val_loss: 0.0962 - val_acc: 0.9719\n",
      "Epoch 6/20\n",
      "42000/42000 [==============================] - 3s 68us/step - loss: 0.0991 - acc: 0.9690 - val_loss: 0.0900 - val_acc: 0.9741\n",
      "Epoch 7/20\n",
      "42000/42000 [==============================] - 3s 70us/step - loss: 0.0931 - acc: 0.9710 - val_loss: 0.0890 - val_acc: 0.9744\n",
      "Epoch 8/20\n",
      "42000/42000 [==============================] - 3s 67us/step - loss: 0.0769 - acc: 0.9759 - val_loss: 0.0851 - val_acc: 0.9753\n",
      "Epoch 9/20\n",
      "42000/42000 [==============================] - 3s 69us/step - loss: 0.0728 - acc: 0.9768 - val_loss: 0.0904 - val_acc: 0.9756\n",
      "Epoch 10/20\n",
      "42000/42000 [==============================] - 3s 68us/step - loss: 0.0687 - acc: 0.9785 - val_loss: 0.0851 - val_acc: 0.9758\n",
      "Epoch 11/20\n",
      "42000/42000 [==============================] - 3s 68us/step - loss: 0.0627 - acc: 0.9803 - val_loss: 0.0847 - val_acc: 0.9766\n",
      "Epoch 12/20\n",
      "42000/42000 [==============================] - 3s 68us/step - loss: 0.0628 - acc: 0.9804 - val_loss: 0.0789 - val_acc: 0.9789\n",
      "Epoch 13/20\n",
      "42000/42000 [==============================] - 3s 69us/step - loss: 0.0559 - acc: 0.9824 - val_loss: 0.0919 - val_acc: 0.9777\n",
      "Epoch 14/20\n",
      "42000/42000 [==============================] - 3s 68us/step - loss: 0.0497 - acc: 0.9841 - val_loss: 0.0796 - val_acc: 0.9787\n",
      "Epoch 15/20\n",
      "42000/42000 [==============================] - 3s 69us/step - loss: 0.0499 - acc: 0.9843 - val_loss: 0.0838 - val_acc: 0.9793\n",
      "Epoch 16/20\n",
      "42000/42000 [==============================] - 3s 69us/step - loss: 0.0514 - acc: 0.9833 - val_loss: 0.0816 - val_acc: 0.9788\n",
      "Epoch 17/20\n",
      "42000/42000 [==============================] - 3s 68us/step - loss: 0.0455 - acc: 0.9859 - val_loss: 0.0854 - val_acc: 0.9786\n",
      "Epoch 18/20\n",
      "42000/42000 [==============================] - 3s 69us/step - loss: 0.0442 - acc: 0.9854 - val_loss: 0.0865 - val_acc: 0.9785\n",
      "Epoch 19/20\n",
      "42000/42000 [==============================] - 3s 67us/step - loss: 0.0428 - acc: 0.9865 - val_loss: 0.0925 - val_acc: 0.9782\n",
      "Epoch 20/20\n",
      "42000/42000 [==============================] - 3s 67us/step - loss: 0.0453 - acc: 0.9852 - val_loss: 0.0912 - val_acc: 0.9790\n",
      "\n",
      "Test Score: 0.07260934376452097\n",
      "Test Accuracy: 0.981\n",
      "\n"
     ]
    },
    {
     "data": {
      "image/png": "[encoded data removed]",
      "text/plain": [
       "<matplotlib.figure.Figure at 0x7f856eb598d0>"
      ]
     },
     "metadata": {
      "tags": []
     },
     "output_type": "display_data"
    },
    {
     "name": "stdout",
     "output_type": "stream",
     "text": [
      "CPU times: user 1min 6s, sys: 9.21 s, total: 1min 15s\n",
      "Wall time: 1min\n"
     ]
    }
   ],
   "source": [
    "%%time\n",
    "def build_ann_c(in_dim, out_dim=10):\n",
    "  model = Sequential()\n",
    "  model.add(Dense(700, activation='relu', kernel_initializer='he_normal', input_shape=(in_dim,)))\n",
    "  model.add(Dropout(0.5))\n",
    "  \n",
    "  model.add(Dense(180, activation='relu', kernel_initializer='he_normal'))\n",
    "  model.add(Dropout(0.5))\n",
    "  \n",
    "  model.add(Dense(out_dim, activation='softmax'))\n",
    "\n",
    "  model.compile(optimizer='Adam', loss='categorical_crossentropy', metrics=['accuracy'])\n",
    "  print(model.summary())\n",
    "\n",
    "  return model\n",
    "\n",
    "model = build_ann_c(X_train.shape[1])\n",
    "print()\n",
    "batch_size=128; epochs=20;\n",
    "history = model.fit(X_train, y_train, batch_size=batch_size, epochs=epochs, validation_split=0.3, verbose=1)\n",
    "print()\n",
    "\n",
    "score = model.evaluate(X_test, y_test, verbose=0)\n",
    "print(f'Test Score: {score[0]}')\n",
    "print(f'Test Accuracy: {score[1]}\\n')\n",
    "\n",
    "x = list(range(1, epochs+1))\n",
    "vy = history.history['val_loss']\n",
    "ty = history.history['loss']\n",
    "plot_loss(x, vy, ty)"
   ]
  },
  {
   "cell_type": "markdown",
   "metadata": {
    "colab_type": "text",
    "id": "F4qHpgb1MK0O"
   },
   "source": [
    "# **MLP with 2 Hidden Layers with Batch Normalization & Dropout (H1_700 >> H2_180)**"
   ]
  },
  {
   "cell_type": "code",
   "execution_count": 8,
   "metadata": {
    "colab": {
     "base_uri": "https://localhost:8080/",
     "height": 1455
    },
    "colab_type": "code",
    "id": "SnbF5_GT698H",
    "outputId": "eea07e30-3735-42db-b8db-cf4ed416a1ba"
   },
   "outputs": [
    {
     "name": "stdout",
     "output_type": "stream",
     "text": [
      "_________________________________________________________________\n",
      "Layer (type)                 Output Shape              Param #   \n",
      "=================================================================\n",
      "dense_1 (Dense)              (None, 700)               549500    \n",
      "_________________________________________________________________\n",
      "batch_normalization_1 (Batch (None, 700)               2800      \n",
      "_________________________________________________________________\n",
      "dropout_1 (Dropout)          (None, 700)               0         \n",
      "_________________________________________________________________\n",
      "dense_2 (Dense)              (None, 180)               126180    \n",
      "_________________________________________________________________\n",
      "batch_normalization_2 (Batch (None, 180)               720       \n",
      "_________________________________________________________________\n",
      "dropout_2 (Dropout)          (None, 180)               0         \n",
      "_________________________________________________________________\n",
      "dense_3 (Dense)              (None, 10)                1810      \n",
      "=================================================================\n",
      "Total params: 681,010\n",
      "Trainable params: 679,250\n",
      "Non-trainable params: 1,760\n",
      "_________________________________________________________________\n",
      "None\n",
      "\n",
      "Train on 42000 samples, validate on 18000 samples\n",
      "Epoch 1/20\n",
      "42000/42000 [==============================] - 7s 164us/step - loss: 0.4480 - acc: 0.8648 - val_loss: 0.1600 - val_acc: 0.9514\n",
      "Epoch 2/20\n",
      "42000/42000 [==============================] - 4s 104us/step - loss: 0.2048 - acc: 0.9367 - val_loss: 0.1262 - val_acc: 0.9611\n",
      "Epoch 3/20\n",
      "42000/42000 [==============================] - 4s 102us/step - loss: 0.1556 - acc: 0.9518 - val_loss: 0.1145 - val_acc: 0.9669\n",
      "Epoch 4/20\n",
      "42000/42000 [==============================] - 4s 103us/step - loss: 0.1342 - acc: 0.9572 - val_loss: 0.1004 - val_acc: 0.9706\n",
      "Epoch 5/20\n",
      "42000/42000 [==============================] - 4s 102us/step - loss: 0.1203 - acc: 0.9629 - val_loss: 0.0981 - val_acc: 0.9699\n",
      "Epoch 6/20\n",
      "42000/42000 [==============================] - 4s 104us/step - loss: 0.1042 - acc: 0.9671 - val_loss: 0.0916 - val_acc: 0.9721\n",
      "Epoch 7/20\n",
      "42000/42000 [==============================] - 4s 101us/step - loss: 0.0953 - acc: 0.9702 - val_loss: 0.0898 - val_acc: 0.9729\n",
      "Epoch 8/20\n",
      "42000/42000 [==============================] - 4s 103us/step - loss: 0.0901 - acc: 0.9712 - val_loss: 0.0892 - val_acc: 0.9737\n",
      "Epoch 9/20\n",
      "42000/42000 [==============================] - 4s 101us/step - loss: 0.0809 - acc: 0.9737 - val_loss: 0.0853 - val_acc: 0.9759\n",
      "Epoch 10/20\n",
      "42000/42000 [==============================] - 4s 102us/step - loss: 0.0796 - acc: 0.9744 - val_loss: 0.0810 - val_acc: 0.9767\n",
      "Epoch 11/20\n",
      "42000/42000 [==============================] - 4s 101us/step - loss: 0.0723 - acc: 0.9770 - val_loss: 0.0849 - val_acc: 0.9765\n",
      "Epoch 12/20\n",
      "42000/42000 [==============================] - 4s 104us/step - loss: 0.0636 - acc: 0.9793 - val_loss: 0.0810 - val_acc: 0.9774\n",
      "Epoch 13/20\n",
      "42000/42000 [==============================] - 4s 103us/step - loss: 0.0653 - acc: 0.9789 - val_loss: 0.0835 - val_acc: 0.9766\n",
      "Epoch 14/20\n",
      "42000/42000 [==============================] - 4s 100us/step - loss: 0.0635 - acc: 0.9795 - val_loss: 0.0821 - val_acc: 0.9778\n",
      "Epoch 15/20\n",
      "42000/42000 [==============================] - 4s 101us/step - loss: 0.0617 - acc: 0.9802 - val_loss: 0.0777 - val_acc: 0.9783\n",
      "Epoch 16/20\n",
      "42000/42000 [==============================] - 4s 102us/step - loss: 0.0531 - acc: 0.9822 - val_loss: 0.0827 - val_acc: 0.9784\n",
      "Epoch 17/20\n",
      "42000/42000 [==============================] - 4s 101us/step - loss: 0.0553 - acc: 0.9825 - val_loss: 0.0780 - val_acc: 0.9793\n",
      "Epoch 18/20\n",
      "42000/42000 [==============================] - 4s 100us/step - loss: 0.0524 - acc: 0.9829 - val_loss: 0.0777 - val_acc: 0.9788\n",
      "Epoch 19/20\n",
      "42000/42000 [==============================] - 4s 101us/step - loss: 0.0508 - acc: 0.9835 - val_loss: 0.0803 - val_acc: 0.9788\n",
      "Epoch 20/20\n",
      "42000/42000 [==============================] - 4s 101us/step - loss: 0.0496 - acc: 0.9834 - val_loss: 0.0781 - val_acc: 0.9794\n",
      "\n",
      "Test Score: 0.06673152507602353\n",
      "Test Accuracy: 0.9812\n",
      "\n"
     ]
    },
    {
     "data": {
      "image/png": "[encoded data removed]",
      "text/plain": [
       "<matplotlib.figure.Figure at 0x7f858dd1af28>"
      ]
     },
     "metadata": {
      "tags": []
     },
     "output_type": "display_data"
    },
    {
     "name": "stdout",
     "output_type": "stream",
     "text": [
      "CPU times: user 1min 42s, sys: 16.2 s, total: 1min 58s\n",
      "Wall time: 1min 30s\n"
     ]
    }
   ],
   "source": [
    "%%time\n",
    "def build_ann_1(in_dim, out_dim=10):\n",
    "  model = Sequential()\n",
    "  model.add(Dense(700, activation='relu', kernel_initializer='he_normal', input_shape=(in_dim,)))\n",
    "  model.add(BatchNormalization())\n",
    "  model.add(Dropout(0.5))\n",
    "  \n",
    "  model.add(Dense(180, activation='relu', kernel_initializer='he_normal'))\n",
    "  model.add(BatchNormalization())\n",
    "  model.add(Dropout(0.5))\n",
    "  \n",
    "  model.add(Dense(out_dim, activation='softmax'))\n",
    "\n",
    "  model.compile(optimizer='Adam', loss='categorical_crossentropy', metrics=['accuracy'])\n",
    "  print(model.summary())\n",
    "\n",
    "  return model\n",
    "\n",
    "model = build_ann_1(X_train.shape[1])\n",
    "print()\n",
    "batch_size=128; epochs=20;\n",
    "history = model.fit(X_train, y_train, batch_size=batch_size, epochs=epochs, validation_split=0.3, verbose=1)\n",
    "print()\n",
    "\n",
    "score = model.evaluate(X_test, y_test, verbose=0)\n",
    "print(f'Test Score: {score[0]}')\n",
    "print(f'Test Accuracy: {score[1]}\\n')\n",
    "\n",
    "x = list(range(1, epochs+1))\n",
    "vy = history.history['val_loss']\n",
    "ty = history.history['loss']\n",
    "plot_loss(x, vy, ty)"
   ]
  },
  {
   "cell_type": "markdown",
   "metadata": {
    "colab_type": "text",
    "id": "qL1-Ue70MQ-e"
   },
   "source": [
    "# **MLP with 3 Hidden Layers with Batch Normalization & Dropout (H1_700 >> H2_350 >> H3_180)**"
   ]
  },
  {
   "cell_type": "code",
   "execution_count": 13,
   "metadata": {
    "colab": {
     "base_uri": "https://localhost:8080/",
     "height": 1557
    },
    "colab_type": "code",
    "id": "4LHtCbJ7-wKj",
    "outputId": "ee65e958-13e7-4217-8a0e-317618db674d"
   },
   "outputs": [
    {
     "name": "stdout",
     "output_type": "stream",
     "text": [
      "_________________________________________________________________\n",
      "Layer (type)                 Output Shape              Param #   \n",
      "=================================================================\n",
      "dense_16 (Dense)             (None, 700)               549500    \n",
      "_________________________________________________________________\n",
      "batch_normalization_12 (Batc (None, 700)               2800      \n",
      "_________________________________________________________________\n",
      "dropout_12 (Dropout)         (None, 700)               0         \n",
      "_________________________________________________________________\n",
      "dense_17 (Dense)             (None, 350)               245350    \n",
      "_________________________________________________________________\n",
      "batch_normalization_13 (Batc (None, 350)               1400      \n",
      "_________________________________________________________________\n",
      "dropout_13 (Dropout)         (None, 350)               0         \n",
      "_________________________________________________________________\n",
      "dense_18 (Dense)             (None, 180)               63180     \n",
      "_________________________________________________________________\n",
      "batch_normalization_14 (Batc (None, 180)               720       \n",
      "_________________________________________________________________\n",
      "dropout_14 (Dropout)         (None, 180)               0         \n",
      "_________________________________________________________________\n",
      "dense_19 (Dense)             (None, 10)                1810      \n",
      "=================================================================\n",
      "Total params: 864,760\n",
      "Trainable params: 862,300\n",
      "Non-trainable params: 2,460\n",
      "_________________________________________________________________\n",
      "None\n",
      "\n",
      "Train on 42000 samples, validate on 18000 samples\n",
      "Epoch 1/20\n",
      "42000/42000 [==============================] - 14s 338us/step - loss: 0.5832 - acc: 0.8232 - val_loss: 0.1826 - val_acc: 0.9451\n",
      "Epoch 2/20\n",
      "42000/42000 [==============================] - 12s 294us/step - loss: 0.2499 - acc: 0.9240 - val_loss: 0.1393 - val_acc: 0.9572\n",
      "Epoch 3/20\n",
      "42000/42000 [==============================] - 12s 290us/step - loss: 0.1940 - acc: 0.9403 - val_loss: 0.1148 - val_acc: 0.9653\n",
      "Epoch 4/20\n",
      "42000/42000 [==============================] - 12s 286us/step - loss: 0.1590 - acc: 0.9521 - val_loss: 0.1102 - val_acc: 0.9672\n",
      "Epoch 5/20\n",
      "42000/42000 [==============================] - 12s 287us/step - loss: 0.1398 - acc: 0.9572 - val_loss: 0.1068 - val_acc: 0.9675\n",
      "Epoch 6/20\n",
      "42000/42000 [==============================] - 12s 286us/step - loss: 0.1255 - acc: 0.9617 - val_loss: 0.0952 - val_acc: 0.9723\n",
      "Epoch 7/20\n",
      "42000/42000 [==============================] - 12s 287us/step - loss: 0.1155 - acc: 0.9642 - val_loss: 0.0918 - val_acc: 0.9733\n",
      "Epoch 8/20\n",
      "42000/42000 [==============================] - 12s 292us/step - loss: 0.1071 - acc: 0.9665 - val_loss: 0.0976 - val_acc: 0.9732\n",
      "Epoch 9/20\n",
      "42000/42000 [==============================] - 12s 288us/step - loss: 0.0977 - acc: 0.9700 - val_loss: 0.0886 - val_acc: 0.9744\n",
      "Epoch 10/20\n",
      "42000/42000 [==============================] - 12s 284us/step - loss: 0.0877 - acc: 0.9727 - val_loss: 0.0876 - val_acc: 0.9762\n",
      "Epoch 11/20\n",
      "42000/42000 [==============================] - 12s 289us/step - loss: 0.0863 - acc: 0.9734 - val_loss: 0.0943 - val_acc: 0.9749\n",
      "Epoch 12/20\n",
      "42000/42000 [==============================] - 12s 286us/step - loss: 0.0802 - acc: 0.9747 - val_loss: 0.0829 - val_acc: 0.9764\n",
      "Epoch 13/20\n",
      "42000/42000 [==============================] - 12s 288us/step - loss: 0.0799 - acc: 0.9748 - val_loss: 0.0820 - val_acc: 0.9770\n",
      "Epoch 14/20\n",
      "42000/42000 [==============================] - 12s 288us/step - loss: 0.0739 - acc: 0.9767 - val_loss: 0.0812 - val_acc: 0.9778\n",
      "Epoch 15/20\n",
      "42000/42000 [==============================] - 12s 289us/step - loss: 0.0742 - acc: 0.9775 - val_loss: 0.0857 - val_acc: 0.9766\n",
      "Epoch 16/20\n",
      "42000/42000 [==============================] - 12s 290us/step - loss: 0.0660 - acc: 0.9788 - val_loss: 0.0840 - val_acc: 0.9767\n",
      "Epoch 17/20\n",
      "42000/42000 [==============================] - 12s 287us/step - loss: 0.0679 - acc: 0.9785 - val_loss: 0.0824 - val_acc: 0.9774\n",
      "Epoch 18/20\n",
      "42000/42000 [==============================] - 12s 288us/step - loss: 0.0609 - acc: 0.9808 - val_loss: 0.0849 - val_acc: 0.9773\n",
      "Epoch 19/20\n",
      "42000/42000 [==============================] - 12s 287us/step - loss: 0.0582 - acc: 0.9811 - val_loss: 0.0810 - val_acc: 0.9782\n",
      "Epoch 20/20\n",
      "42000/42000 [==============================] - 12s 290us/step - loss: 0.0571 - acc: 0.9827 - val_loss: 0.0781 - val_acc: 0.9790\n",
      "\n",
      "Test Score: 0.07071865398295922\n",
      "Test Accuracy: 0.9818\n",
      "\n"
     ]
    },
    {
     "data": {
      "image/png": "[encoded data removed]",
      "text/plain": [
       "<matplotlib.figure.Figure at 0x7f4dc3305668>"
      ]
     },
     "metadata": {
      "tags": []
     },
     "output_type": "display_data"
    },
    {
     "name": "stdout",
     "output_type": "stream",
     "text": [
      "CPU times: user 6min 44s, sys: 23.9 s, total: 7min 8s\n",
      "Wall time: 4min 6s\n"
     ]
    }
   ],
   "source": [
    "%%time\n",
    "def build_ann_2(in_dim, out_dim=10):\n",
    "  model = Sequential()\n",
    "  model.add(Dense(700, activation='relu', kernel_initializer='he_normal', input_shape=(in_dim,)))\n",
    "  model.add(BatchNormalization())\n",
    "  model.add(Dropout(0.5))\n",
    "  \n",
    "  model.add(Dense(350, activation='relu', kernel_initializer='he_normal'))\n",
    "  model.add(BatchNormalization())\n",
    "  model.add(Dropout(0.5))\n",
    "  \n",
    "  model.add(Dense(180, activation='relu', kernel_initializer='he_normal'))\n",
    "  model.add(BatchNormalization())\n",
    "  model.add(Dropout(0.5))\n",
    "  \n",
    "  model.add(Dense(out_dim, activation='softmax'))\n",
    "\n",
    "  model.compile(optimizer='Adam', loss='categorical_crossentropy', metrics=['accuracy'])\n",
    "  print(model.summary())\n",
    "\n",
    "  return model\n",
    "\n",
    "model = build_ann_2(X_train.shape[1])\n",
    "print()\n",
    "batch_size=128; epochs=20;\n",
    "history = model.fit(X_train, y_train, batch_size=batch_size, epochs=epochs, validation_split=0.3, verbose=1)\n",
    "print()\n",
    "\n",
    "score = model.evaluate(X_test, y_test, verbose=0)\n",
    "print(f'Test Score: {score[0]}')\n",
    "print(f'Test Accuracy: {score[1]}\\n')\n",
    "\n",
    "x = list(range(1, epochs+1))\n",
    "vy = history.history['val_loss']\n",
    "ty = history.history['loss']\n",
    "plot_loss(x, vy, ty)"
   ]
  },
  {
   "cell_type": "markdown",
   "metadata": {
    "colab_type": "text",
    "id": "ohv2gM60Mb-K"
   },
   "source": [
    "# **MLP with 5 Hidden Layers with Batch Normalization & Dropout (H1_700 >> H2_350 >> H3_300 >> H4_200 >> H5_100)**"
   ]
  },
  {
   "cell_type": "code",
   "execution_count": 13,
   "metadata": {
    "colab": {
     "base_uri": "https://localhost:8080/",
     "height": 1758
    },
    "colab_type": "code",
    "id": "FzPzCte_-wNS",
    "outputId": "e246d979-6a0d-408e-86db-89080f11352d"
   },
   "outputs": [
    {
     "name": "stdout",
     "output_type": "stream",
     "text": [
      "_________________________________________________________________\n",
      "Layer (type)                 Output Shape              Param #   \n",
      "=================================================================\n",
      "dense_28 (Dense)             (None, 700)               549500    \n",
      "_________________________________________________________________\n",
      "batch_normalization_23 (Batc (None, 700)               2800      \n",
      "_________________________________________________________________\n",
      "dropout_19 (Dropout)         (None, 700)               0         \n",
      "_________________________________________________________________\n",
      "dense_29 (Dense)             (None, 350)               245350    \n",
      "_________________________________________________________________\n",
      "batch_normalization_24 (Batc (None, 350)               1400      \n",
      "_________________________________________________________________\n",
      "dropout_20 (Dropout)         (None, 350)               0         \n",
      "_________________________________________________________________\n",
      "dense_30 (Dense)             (None, 300)               105300    \n",
      "_________________________________________________________________\n",
      "batch_normalization_25 (Batc (None, 300)               1200      \n",
      "_________________________________________________________________\n",
      "dropout_21 (Dropout)         (None, 300)               0         \n",
      "_________________________________________________________________\n",
      "dense_31 (Dense)             (None, 200)               60200     \n",
      "_________________________________________________________________\n",
      "batch_normalization_26 (Batc (None, 200)               800       \n",
      "_________________________________________________________________\n",
      "dropout_22 (Dropout)         (None, 200)               0         \n",
      "_________________________________________________________________\n",
      "dense_32 (Dense)             (None, 100)               20100     \n",
      "_________________________________________________________________\n",
      "batch_normalization_27 (Batc (None, 100)               400       \n",
      "_________________________________________________________________\n",
      "dropout_23 (Dropout)         (None, 100)               0         \n",
      "_________________________________________________________________\n",
      "dense_33 (Dense)             (None, 10)                1010      \n",
      "=================================================================\n",
      "Total params: 988,060\n",
      "Trainable params: 984,760\n",
      "Non-trainable params: 3,300\n",
      "_________________________________________________________________\n",
      "None\n",
      "\n",
      "Train on 42000 samples, validate on 18000 samples\n",
      "Epoch 1/20\n",
      "42000/42000 [==============================] - 11s 265us/step - loss: 1.1897 - acc: 0.6203 - val_loss: 0.2683 - val_acc: 0.9225\n",
      "Epoch 2/20\n",
      "42000/42000 [==============================] - 8s 193us/step - loss: 0.4191 - acc: 0.8787 - val_loss: 0.1777 - val_acc: 0.9493\n",
      "Epoch 3/20\n",
      "42000/42000 [==============================] - 8s 192us/step - loss: 0.2985 - acc: 0.9166 - val_loss: 0.1509 - val_acc: 0.9577\n",
      "Epoch 4/20\n",
      "42000/42000 [==============================] - 8s 194us/step - loss: 0.2394 - acc: 0.9331 - val_loss: 0.1330 - val_acc: 0.9628\n",
      "Epoch 5/20\n",
      "42000/42000 [==============================] - 8s 195us/step - loss: 0.2098 - acc: 0.9417 - val_loss: 0.1345 - val_acc: 0.9657\n",
      "Epoch 6/20\n",
      "42000/42000 [==============================] - 8s 192us/step - loss: 0.1925 - acc: 0.9482 - val_loss: 0.1170 - val_acc: 0.9680\n",
      "Epoch 7/20\n",
      "42000/42000 [==============================] - 8s 190us/step - loss: 0.1718 - acc: 0.9521 - val_loss: 0.1185 - val_acc: 0.9689\n",
      "Epoch 8/20\n",
      "42000/42000 [==============================] - 8s 191us/step - loss: 0.1577 - acc: 0.9568 - val_loss: 0.1179 - val_acc: 0.9686\n",
      "Epoch 9/20\n",
      "42000/42000 [==============================] - 8s 192us/step - loss: 0.1465 - acc: 0.9599 - val_loss: 0.1027 - val_acc: 0.9717\n",
      "Epoch 10/20\n",
      "42000/42000 [==============================] - 8s 191us/step - loss: 0.1355 - acc: 0.9625 - val_loss: 0.1036 - val_acc: 0.9732\n",
      "Epoch 11/20\n",
      "42000/42000 [==============================] - 8s 192us/step - loss: 0.1328 - acc: 0.9630 - val_loss: 0.1012 - val_acc: 0.9742\n",
      "Epoch 12/20\n",
      "42000/42000 [==============================] - 8s 190us/step - loss: 0.1322 - acc: 0.9627 - val_loss: 0.1050 - val_acc: 0.9722\n",
      "Epoch 13/20\n",
      "42000/42000 [==============================] - 8s 194us/step - loss: 0.1186 - acc: 0.9676 - val_loss: 0.1015 - val_acc: 0.9743\n",
      "Epoch 14/20\n",
      "42000/42000 [==============================] - 8s 193us/step - loss: 0.1148 - acc: 0.9684 - val_loss: 0.0952 - val_acc: 0.9761\n",
      "Epoch 15/20\n",
      "42000/42000 [==============================] - 8s 191us/step - loss: 0.1047 - acc: 0.9715 - val_loss: 0.0970 - val_acc: 0.9747\n",
      "Epoch 16/20\n",
      "42000/42000 [==============================] - 8s 193us/step - loss: 0.0998 - acc: 0.9723 - val_loss: 0.0919 - val_acc: 0.9774\n",
      "Epoch 17/20\n",
      "42000/42000 [==============================] - 8s 191us/step - loss: 0.1025 - acc: 0.9721 - val_loss: 0.0936 - val_acc: 0.9761\n",
      "Epoch 18/20\n",
      "42000/42000 [==============================] - 8s 191us/step - loss: 0.0952 - acc: 0.9736 - val_loss: 0.0936 - val_acc: 0.9763\n",
      "Epoch 19/20\n",
      "42000/42000 [==============================] - 8s 193us/step - loss: 0.0929 - acc: 0.9747 - val_loss: 0.0931 - val_acc: 0.9771\n",
      "Epoch 20/20\n",
      "42000/42000 [==============================] - 8s 188us/step - loss: 0.0881 - acc: 0.9754 - val_loss: 0.0982 - val_acc: 0.9766\n",
      "\n",
      "Test Score: 0.07755803954876028\n",
      "Test Accuracy: 0.9796\n",
      "\n"
     ]
    },
    {
     "data": {
      "image/png": "[encoded data removed]",
      "text/plain": [
       "<matplotlib.figure.Figure at 0x7f856ff339e8>"
      ]
     },
     "metadata": {
      "tags": []
     },
     "output_type": "display_data"
    },
    {
     "name": "stdout",
     "output_type": "stream",
     "text": [
      "CPU times: user 3min 15s, sys: 29.5 s, total: 3min 44s\n",
      "Wall time: 2min 48s\n"
     ]
    }
   ],
   "source": [
    "%%time\n",
    "def build_ann_3(in_dim, out_dim=10):\n",
    "  model = Sequential()\n",
    "  model.add(Dense(700, activation='relu', kernel_initializer='he_normal', input_shape=(in_dim,)))\n",
    "  model.add(BatchNormalization())\n",
    "  model.add(Dropout(0.5))\n",
    "  \n",
    "  model.add(Dense(350, activation='relu', kernel_initializer='he_normal'))\n",
    "  model.add(BatchNormalization())\n",
    "  model.add(Dropout(0.5))\n",
    "  \n",
    "  model.add(Dense(300, activation='relu', kernel_initializer='he_normal'))\n",
    "  model.add(BatchNormalization())\n",
    "  model.add(Dropout(0.5))\n",
    "  \n",
    "  model.add(Dense(200, activation='relu', kernel_initializer='he_normal'))\n",
    "  model.add(BatchNormalization())\n",
    "  model.add(Dropout(0.5))\n",
    "  \n",
    "  model.add(Dense(100, activation='relu', kernel_initializer='he_normal'))\n",
    "  model.add(BatchNormalization())\n",
    "  model.add(Dropout(0.5))\n",
    "  \n",
    "  model.add(Dense(out_dim, activation='softmax'))\n",
    "\n",
    "  model.compile(optimizer='Adam', loss='categorical_crossentropy', metrics=['accuracy'])\n",
    "  print(model.summary())\n",
    "\n",
    "  return model\n",
    "\n",
    "model = build_ann_3(X_train.shape[1])\n",
    "print()\n",
    "batch_size=128; epochs=20;\n",
    "history = model.fit(X_train, y_train, batch_size=batch_size, epochs=epochs, validation_split=0.3, verbose=1)\n",
    "print()\n",
    "\n",
    "score = model.evaluate(X_test, y_test, verbose=0)\n",
    "print(f'Test Score: {score[0]}')\n",
    "print(f'Test Accuracy: {score[1]}\\n')\n",
    "\n",
    "x = list(range(1, epochs+1))\n",
    "vy = history.history['val_loss']\n",
    "ty = history.history['loss']\n",
    "plot_loss(x, vy, ty)"
   ]
  },
  {
   "cell_type": "markdown",
   "metadata": {
    "colab_type": "text",
    "id": "DsVdLPCHMsne"
   },
   "source": [
    "# Conclusion :-\n",
    "- From the first three Experiments, it is observed that Dropout reduces Overfitting - Networks without the Dropout layer is shown to exhibit low Train Loss and higher Test Loss. This difference is reduced when the Dropout Layer is introduced in the Neural Net.\n",
    "- Subsequent increase in depth of the Network (3 and 5 Hidden Layers) shows not much improvement in the Test Accuracy. Infact, 5-layer deep MLP gave lower Accuracy than it's shallower counterparts.\n",
    "- Also, the Crossover point between Train and Validation Loss is increasing as the Networks depth increases. This is evident from the Loss vs Epoch curves."
   ]
  }
 ],
 "metadata": {
  "accelerator": "GPU",
  "colab": {
   "collapsed_sections": [],
   "name": "MLP on MNIST dataset.ipynb",
   "provenance": [],
   "version": "0.3.2"
  },
  "kernelspec": {
   "display_name": "Python 3",
   "language": "python",
   "name": "python3"
  },
  "language_info": {
   "codemirror_mode": {
    "name": "ipython",
    "version": 3
   },
   "file_extension": ".py",
   "mimetype": "text/x-python",
   "name": "python",
   "nbconvert_exporter": "python",
   "pygments_lexer": "ipython3",
   "version": "3.6.4"
  }
 },
 "nbformat": 4,
 "nbformat_minor": 1
}
